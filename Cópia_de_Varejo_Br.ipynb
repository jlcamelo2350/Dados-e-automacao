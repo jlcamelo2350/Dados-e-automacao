{
  "nbformat": 4,
  "nbformat_minor": 0,
  "metadata": {
    "colab": {
      "provenance": [],
      "authorship_tag": "ABX9TyPbw1TYZ/9vsNZ4bzt2t2pp",
      "include_colab_link": true
    },
    "kernelspec": {
      "name": "python3",
      "display_name": "Python 3"
    },
    "language_info": {
      "name": "python"
    }
  },
  "cells": [
    {
      "cell_type": "markdown",
      "metadata": {
        "id": "view-in-github",
        "colab_type": "text"
      },
      "source": [
        "<a href=\"https://colab.research.google.com/github/jlcamelo2350/Dados-e-automacao/blob/main/C%C3%B3pia_de_Varejo_Br.ipynb\" target=\"_parent\"><img src=\"https://colab.research.google.com/assets/colab-badge.svg\" alt=\"Open In Colab\"/></a>"
      ]
    },
    {
      "cell_type": "markdown",
      "source": [
        "**Obtendo dados financeiros de empresas varejistas brasileiras**\n",
        "\n",
        "---\n",
        "\n",
        "\n"
      ],
      "metadata": {
        "id": "l6cVpI26_Z5A"
      }
    },
    {
      "cell_type": "markdown",
      "source": [
        "Baixar informações do balanço patrimonial e as demonstrações de resultado das empresas Magazine Luiza, Arezzo, Alpagartas, Grupo De Moda Soma, Lojas Renner e Guararapes Confeccoes S.A."
      ],
      "metadata": {
        "id": "EkjfZlMq5TCu"
      }
    },
    {
      "cell_type": "markdown",
      "source": [
        "Baixando o balanço patrimonial e salvando em Excel:"
      ],
      "metadata": {
        "id": "v88xRlZd6Ue-"
      }
    },
    {
      "cell_type": "code",
      "execution_count": null,
      "metadata": {
        "id": "7r65pNjk4nif"
      },
      "outputs": [],
      "source": [
        "#Importo as bibliotecas que utilizarei\n",
        "\n",
        "import pandas as pd\n",
        "import yfinance as yf\n",
        "import os"
      ]
    },
    {
      "cell_type": "code",
      "source": [
        "#Crio uma função que baixa os dados do Balanço Patrimonial das empresas\n",
        "\n",
        "def BP():\n",
        "    # Lista de tickers das empresas\n",
        "    tickers = ['MGLU3.SA','SOMA3.SA', 'LREN3.SA', 'ARZZ3', 'GUAR3.SA', 'ALPA4.SA']\n",
        "\n",
        "    #    Crio uma lista vazia que vou utilizar logo mais\n",
        "    balance_sheets = []\n",
        "\n",
        "    # Loop para baixar os balanços patrimoniais de cada empresa\n",
        "    for ticker in tickers:\n",
        "        try:\n",
        "            ativo = yf.Ticker(ticker)\n",
        "            balanco = ativo.get_balance_sheet(freq='yearly')  ##Baixa os dados do balanço patrimonial dos últimos anos\n",
        "            balanco['Company'] = ticker.split('.')[0]\n",
        "            balance_sheets.append(balanco)\n",
        "        except Exception as e:\n",
        "            print(f\"Erro ao baixar dados para o ativo {ticker}: {e}\")\n",
        "\n",
        "    # Concatenar os balanços patrimoniais em um único dataframe\n",
        "    balancos = pd.concat(balance_sheets, axis=1)\n",
        "    balancos.reset_index(inplace=True)\n",
        "\n",
        "    # Visualizar os primeiros registros do dataframe\n",
        "    print(balancos.head())\n",
        "\n",
        "    # Caminho para o diretório de downloads do usuário\n",
        "    caminho = os.path.join(os.path.expanduser('~'), 'Downloads')\n",
        "    # Salvar o dataframe em um arquivo Excel\n",
        "    balancos.to_excel(os.path.join(caminho, 'BP_varejo.xlsx'), index=False)\n"
      ],
      "metadata": {
        "id": "xjgKJN9PDS3k"
      },
      "execution_count": null,
      "outputs": []
    },
    {
      "cell_type": "code",
      "source": [
        "\n",
        "# Chamar a função BP para executar o código\n",
        "BP()"
      ],
      "metadata": {
        "id": "-UckGKlGEwPj"
      },
      "execution_count": null,
      "outputs": []
    },
    {
      "cell_type": "markdown",
      "source": [
        "Baixando informações do dre e salvando em arquivo excel:\n",
        "\n"
      ],
      "metadata": {
        "id": "ojMboW5o6dRc"
      }
    },
    {
      "cell_type": "code",
      "source": [
        "import yfinance as yf\n",
        "import pandas as pd\n",
        "import os\n",
        "\n",
        "def DRE():\n",
        "    # Lista de tickers das empresas\n",
        "    tickers = ['MGLU3.SA','SOMA3.SA', 'LREN3.SA', 'ARZZ3', 'GUAR3.SA', 'ALPA4.SA']\n",
        "\n",
        "    dfs = []\n",
        "\n",
        "    # Loop para baixar a Demonstração de Resultados do Exercício de cada empresa\n",
        "    for ticker in tickers:\n",
        "        ativo = yf.Ticker(ticker)\n",
        "        dre = ativo.get_financials(freq='yearly')  ##Baixa os dados da DRE dos últimos anos\n",
        "        dre['Company'] = ticker.split('.')[0]\n",
        "        dfs.append(dre)\n",
        "\n",
        "    # Concatenar as Demonstrações de Resultados do Exercício em um único dataframe\n",
        "    resultado = pd.concat(dfs, axis=1)\n",
        "    resultado.reset_index(inplace=True)\n",
        "\n",
        "    # Caminho para o diretório de downloads do usuário\n",
        "    caminho = os.path.join(os.path.expanduser('~'), 'Downloads')\n",
        "    # Salvar o dataframe em um arquivo Excel\n",
        "    resultado.to_excel(os.path.join(caminho, 'dre anual.xlsx'), index=False)\n",
        "\n"
      ],
      "metadata": {
        "id": "CO89hzMJ6mzc"
      },
      "execution_count": 1,
      "outputs": []
    },
    {
      "cell_type": "code",
      "source": [
        "#Chamada da função:\n",
        "DRE()"
      ],
      "metadata": {
        "id": "OmIwkdXyGxe1"
      },
      "execution_count": null,
      "outputs": []
    },
    {
      "cell_type": "markdown",
      "source": [
        "Um exemplo de como ficou a planilha com os dados das empresas após organizado:\n",
        "Trecho do Balanço Patrimonial da Magazine Luiza"
      ],
      "metadata": {
        "id": "uMaBoC346wff"
      }
    },
    {
      "cell_type": "markdown",
      "source": [
        "\n",
        "![trecho_tab.png](data:image/png;base64,iVBORw0KGgoAAAANSUhEUgAAAukAAAEsCAYAAAB+CS2RAAAAAXNSR0IArs4c6QAAAARnQU1BAACxjwv8YQUAAAAJcEhZcwAAEnQAABJ0Ad5mH3gAAFc/SURBVHhe7Z1LbiJL04aDfyl4ZFkWSL0MGLU8aLVgGzDoQcsDD8w2QJalz+qR2UW3BEKWR2Yr/JGXgrxEVmVx8Snw+0h1joGsvEZGvZUVld3aMAQq+ffvH3379s1+AuAygZ2DSwG2DCRgF6cB/Xoa/s/+HwAAAAAAANAQINIBAAAAAABoGBDpAAAAAAAANAyIdAAAAAAAABoGRDoAAAAAAAANAyIdAAAAAACAhgGRDgAAAAAAQMOASP9PWdL4qkWt/sx+viBmfWq1rmi8tJ+bgK4T9/fVmHueWY7pqtWnz+/9GfW5HleN6pzTMus7/X5RNGgstT1zP29tWtWtYXMQNAB73XHnY+ivm+i/G8ZyfOXMtQrstaf8Un/BeqAO1o/ldYPxv1V9VmusGgZE+oGYwXcvjA5Vjm72iybrHk1fB/YLkMY6sOzJGzN7nlNvuqHF3Qt1v7ojrMtWAEr9XyFU+dzf8zaN/jxSx34Fjs/y6YVotKDNlGh4kTdEx2Xnu4sDovRTcXxKE8ZBLyQI9ZEvFTP6NVnz9eSVcPUuJ55n5khdL2a/JrTuTQmyyACRfjTm9LuWZ2FhM1SiEZM8C3tD0+txTz/vI7CXtHo3f3UeP2hKQ2p1JyxqHtD/NZn/riMA+ebqu+rnP/QIhX5SVm9r88fg1dyItoY0792j3wWUINPTf7Eh9Y9u62NxRy/d81xtSyGvIHbo8YPb+9GMm2a1cLIdA318/Hc22x7Rwq3LtEfzIYvK4KZ3Of7Nc6uGkOQ5qfL7usKzR1O3Xxcjokk3tk29oFNn4XJAryq/C+5YiPSj0KPRqE3ryfcaKwDGuHC3mIdaBafeD3r9oVX6HhdSc2Eq+nvwapzFBxRMLXqjEbXXE/qebeim39HPp0fZdNHP6kZUXwzhYCKUcB2qJzuLQAx2Huljg0UT4KDENQt1vrh7Pk/PL8yt/VFzjYV6m+Y0dB9VYA5GQKQfidvHe5bqa5r8KpOPcsxZtNqhw2TUZxtvZQ9z2i7sI/nIyMa/bY+gPP1Yj7/bPYZy72b9MtURnC7iP9IKV252+OlyY3lnZDQ6T93BD+7n1FOLsO5hPfLaVlnH4DFtZf9kpg/LbWQM9+0j3etr1q/kGCvEGPQw/Ev3i/os27T3+FnstIrxLuaR0/+7bPwy1ZFli7ljXzEHJaLxF84pt83cNlXNkyCfjLqfD0t6elkTte/oZ8Z9Y+WcPMBXF344tJWou0NbCuuwnUe7OlyN/6fL7k7U0xUWQvb7Im9xfor47YrtKbY5v/7md3Xedj7X8GtyH1l79ebiCUNkBg80arPPe3na1tvtP9OucA75aYq6+n0T9u3Kfu+T4xfOEhbk6lriLbrpcbZjacc8aq6bxtpX2CdbW1MHj4HYs1XzqilsQBZ///61f/ksRu0Ny8fNdPt3ezNamN/4Dtz/vFlseLJv1PM9FzcPjT6P0znnmjTqO9oUp0flMVFeQpnTnsmH2iP+1WEx2rAv2rTdDG1dvO8C5Hb79Vfocr0ypxueo6V5a3R+uzbF+ShMXm47Vb22eWe2rbqO4WfVv25/B0Tl2npK5Urj5n13elJ2XrRDd2+iTVF7wjHS/e3YhM1H9cV22La24+Rnv3OG1q+PJbL9bV6+HfIPka1s6+IVEpBot1dXJmcOhuhzhPrE+bptUeUX5WS2KaPfwrFTv5dUvbHIthzbaoqsOSnYmOlP9d2un+OxK/LnI+hrL53KX/BH4jg75RWEY1sQzU/djqBcnWf4ndsG0x+xLcVpdF5x5SJbDIn7yMlv2y77nddPaVI+LuoTh7AfvbS2r/x2BHYWtTUcR7mfdLluxjafHPv9bHI0UoRod8VnwdYZf5xsvzlpjM3syjPl+9/pcryxlstqAhDpmeQZYOAsEk4tNITIiKPzGNGhBY7Afo7sTOe3yz804oKUk0p9bwjrYAnboOsftInRbU/mrRD6TOifUkfAZLUtq46J9iaQyw3yEMeWSX1/QrJEuv6o+rvoq7hPxHaLNlFl04qEI446xpy7/VqXF/dfylb2s6GwvkEdCoI5WE3YZqlfduS2Kaff5HaeH6ItW5tL9eOW3Dkp+CL53Hj88uwpJjqvpE0pu4jyCNshtSujbnHbg2uii01rBNTuqOojsU1ifWWOLtJtG71+Ced70C/yuAjXuoicNP8Nxxfp9lxvTHxfFfWHOPcq6mApG///EoS7HJUOPZpYACqNejkVyxWpdyP1iy7uY5zhnL99p5X7LKd9Q7f2T4N9sfL6NnqZ6PaGzX79Jj8ysmVe31Y8O1690VqFA3X9uunHsam8FcsnUk+ndahLgQ55WdPL065B+qW5qE0FmW3LquOAHtgrrPVLL1WPWNPleuhy23QTVr5zS9f8v3dv4JpBJyu861TYfp0PvXFqqRcl+Wu/v+J+TdlK51b3tj9PtmSOZZ05GOA/1u6SjlQoqJhneW3K67fBg3nvoMu/yeEyX4D/bE7eknFJjkcMHstrUxKo9MEnIQh36U643wRK5g0LKvP+hD3O7/2VDv2842uCGw5j36FKxVaXX698Sv3ChdP5ece+6IW2l/rZM/uqHrlywCM1byUy59V/DUT6sbHxa/V2wDguodMzx3/4xvwW9bKWVLf0iyJqWznlk3zRY0RFVVz0flTXsXgpb9orBH0cj3j5mJsVNvTTxYJW0ZsGY2SOJlzk685BFUPZnVw7OyAstB85CVX9pl/e4u+mfBumb0aFuNBzpfOTWE/5IrjBaIE2fPd8Eg9LQ1Ax1Swarx170i8DXhrFewxpUe2LSecdqgP5VL/wH6BvZvi2N3l/qefrbkGu6uYnl2bPKx+I9KPTocc/ZiXq17P96rM4aJWnQ2bRbRXdXJTe9eeWeXvDzntN9a6N1jlKokLPqDkVuzGWrvbntq1mHfUOMfYNdXlXyHS5Hqlyc59S/Ed0Hv/wBUOtpn+6oef1a4KUrSzNUnnigpFZ5l5z0K5wl118KvLNa1PNftPbxhlRsN+2p03ErHpW3lz+Z3NyRcYlGW9r/FPeS66fju2LY4jRRmOf5rbvfrL1JHDFpFrtbY/ooaRbyq9XBRl+4awxNzPl7XOfUqj0bRqVd2zWNbzR8yoAIv0U2LeW53NlgS7FBWL3NrO6ozNv4B+DIhQj2ApSPdbJeHN5oLY3DLfX43PVY6DefWpP3QGZ05wyVXnhs6OiT4b+qrO+o00t0+m90RMXAR3yshMPeiWDxbK7nZPKu3hcn9W2nDqGfVnxeC0uV60+mScBW+zqnl/uUu8vvq5w9v8tNryL7Ty0dNNu9zGlYBMHUIRk+FtBqr6t3uVBshUeZPrOxtYu2Tc/ayz3moNWPHt+4XvwWFuYZ7p8YzO5barut7APfdF4CWxDtbqhrTht/6w5yWPRdexi1lf21KN7+1TDiDl/HtWZRuUhXAdibxx3N3C2f+yni0DNWxXC05tWPKEzvlCJyTErz1JBz8TzVYUNhaEsOX7hTNG73bCtq33pK7ay1PNVzYGxuvmpENbCvJU01qHz6lPZgCzqvxRhXnDgy1vwMot90UH/Zl94CF8ykV6CEV+IkF/kMXVyyghehih9QSJ6mSfvZRydp1uezic+10unDr9BHiZt+mWP6Peo7sG5mW2rqmP4e0kTDHo8i/SqTOFFI6ZO35yK3BdHXYp6l7ZHsgkxT8mmEy9LVY2nNI+2FPNzd2R1d+ZYVs3BmKA+XBndf0GlQhvxy81sU1a/Ob9ndUzzSNqyJZpvgq1EacK+OMBX67yVXUQ2ZRNogusFp5+GL9OJ5RX45xdptmWbj3E7pHZJczOwld7UpNnVJTF3FZEdFseu3KiejHjNFesrU/riaEldXKR68bd2/gnnSGMUtF/9pvP1EgVzmn+L0zSDco3ktMEeYhMS41iMTehnOXfBvoI5o37T+bo2kzGvGkJL/YcrCSr49+8fffv2zX4CTUbF8f2+WZzhC0j/PbDzM0CtQnXf6B7/6EcpTbdl5aeG7yNaNORf/vwqwMedBvTraUC4C7g4VFjCaV4qBaAB6Ee6qX/QCwAAwKUAkQ4uBxU/qHZ/0YHml/qyDfi6FNvdqdjVNt2dw1tPAAAA9gYiHVwOejcKu/tLxcsoAJwfHXr8sPbdiC1VwSHo3aEQ6gIAKAEiHQAAAAAAgIYBkQ4AAAAAAEDDgEgHAAAAAACgYUCkAwAAAAAA0DAg0gEAAAAAAGgYEOkAAAAAAAA0DIh0AAAAAAAAGgZEOgAAAAAAAA0DIh0AAAAAAICGAZEOAAAAAABAw4BIBwD8N8z61Gpd0Xjpfm5Rf2Y/78lyfMX59CkrmyOVCc6FJY2vWtS6GvNf5Rg7cuxTxOYHAzpz5HGc9fNspS6wrU8gvL6cKaJINwbExhEcV+fe2qNiJ5DQT9sDkwuAz2U5pu+TNfWmrzSwXwEAQG3Yl/yet2n055E69isAPpuSlfQeTTcb2hTHYkQ06bL4zFyhcqi1snU2dOjxw+mfaY+/4wm9cL57hUwAIJvBq543h0yb2a8J8STMz+MIZYJzwvrtD0d4JVbcOo8fbBsf9AiF9iUxvuTPScb/S9nWQSvaeJqQH+7SeaQPFuptmtMQK8QAgAYyeN3QB1QVAOBA4EtAE6gXk85C/V4tGM+fvVXxKDxmK+LNXVB3sua/Wdzb33caf0Z997wLiB+KCdsYPlEIwmaiG6A4rCYKOxLvVE25u7QmH/VZx9mpvNxYOxubuzsu7ckHOJzQlsNY7nIb8/2EYF/LMV15ee7yqzw3tN8wjlT/zufZMlQaXU5UpqLaL23bp44TxKyC0+HGGeu/h3P+a02TrhnPrc8s8avF2F+NV/b7APjTM8ded4PrceSHtP9wbaTsPMcGDrCttN5qHqXzi4na4vpS3bddMvJxaNOEfZg494Ko/eLo4IdS6e+0sr2hOrn7dm/CO9ShVtu5Q81AmEeLi1Gb/96Fz5hHy8ogf9ONEx4y7amBvCBnpo1sSNzwbRsXo3e+Wdm1cdZnI6QRLYrfb34HNzH8+/V0e/427GjPibnmc4dk87OPfPVEGb57oTrTnrqpisUJ+KJYW34fLXa2OO2x7/SdriJlY10diVKcSzTUzrsald/Oxyxo1A6e5iln/ftmO4c2nHlvPaFuNEf4vO4L3dk6yCEu1X5JtWU4d8IB79/oOybKWaJWS8NQxfTqqbKNIc17hT9e0N3L0IgIB/jTy0T0YfxFMPx7km9bab3VPMrmlxLw3cm1E1bNvp3VULfQRyp6Q/t7/nvbL/Zdo2yff/7UFukhOrbKvdp1ftIdd+r6LbHCsGVAr0FMVngDcO6omLY1G5fXPY/3fLsyp+eELan+LNIvx785JYsBPwP6o6w2eJqRTZtvCDx1MqNf7AnaQezd4JWNnt3PyxOuKsDaMtvOH99IWHzwXH958lcwcmxMxYJr552BctDb/Dr0UzkY1/5VXm6MMfsW40pW0cpKb1oVB7qHX+Ly8Vj88on9sVqEsiJiC/zpZXKgD6sgz7aMPthPbzWMpXopV/lj9wV/bvMfE1Kd0kdbavj8c+dgka7QKwfbxw728UQW6u7ReVyRubJ2Hixp9c7/2z6mKQ6+W+av3+0Vf/DARqnuAPm38G549cYd2b6hW/u5oHN7zf/d82bm+tYxbGa54pzU16HIuKWbc5z84ARYWw5th7k1RkKelWTb2BEJHn3KrqRNN+FkEin3S8WNtg7fu8CVGyCT8sce8KeXyYl9WJZtWfbXWw1i9ca3rII/7tySVjc54ibL558/tUX67Fn1xDUVtio+sgju/kQSj88vju1jGv/YrrzpRzqm7eqxvjI2XPcByEcOL7A/1iXLL6nVdv7ePmpWc7apj5sBAJfD3nrrwjiqz284NUX6jLRG7/2wjyjsCtv2cw3sndTdzxOurv2ndMgseGc+flGPb+yEm9tnPeIqJbM0y5rbG6WDSN65rsjc3GctPYKLJm3LWStAdVZH9sDU4Y6O4krq+CV7g60uDlHID7g4Uv7YA/70MjmxD8uyrUP0VtO4vWEvu6bowVLmE4uj+vyGky/S7QrT3Is3tRdvJz50Of4ePX4RwzPsIO1i9GbUv7DnFUUoi/9SmXqUXrxA5P6t8B155+cd91HwkhyPg/rHWtqjh91EHfwI4h1VviasphoTy7WefPdeapr11fk9ukesLWB0XHZoy7O+fsTYu3djAyUEG1OPKo80380F7oV25m/qtReVfsns3rCbkulQIHAmpARDQOyPlS2E4Qbwp5dJrg+L35nRL3tWxKTk2Vae3moc0vyysfTzobtRCLf5u3n36WErbuQFoqP6/KazEViM2hv1U3j0pjaBx3TDtrtLx4mmPfP/HYvNqL1LU/zkl9PejKajTVv9f2F+bxJ///61fyWY9kwbwrovVJt2bY/S6POc36NODvqXD3EcvHxUGabP29vC7BiIJwtj3h7xGeCrUWrnVbZcYWPaL7j2pfNz8rD5706X8zO22uOZUeD7F5X3VKVxbbhifrpFVPqlsB8wVxpJypa1HQZj5trm1mdKNhOMvbKb+HoX2hAfsJHGINtF6Gtk3xP5MNGvBP7IGAn/7fisvW0rR2/9N5RdO8T5xXj9adsT4fVL0YcH+Pwzo6X+w40EFfz794++fftmPwFwmcDOwaUAWwYSR7ULvZquYqPxL9Nivp2Go+zuAgAAAAAAADgeEOkAAAAAAAA0DIh0AAAAAIC66F3ZEOoCTgdEOgAAAAAAAA0DIh0AAAAAAICGAZEOAAAAAABAw4BIBwAAAAAAoGFApAMAAAAAANAwINIBAAAAAABoGC31T7navwEAAAAAAAANoLVh7N+gBPyTt+ArADsHlwJsGUjALk4D+vU0INwFAAAAAACAhgGRDgAAAAAAQMOASAcAAAAAAKBhQKQDAAAAAADQMCDSAQAAAAAAaBgQ6QAAAAAAADQMiHQAAAAAAAAaRjNE+qxPrdYVjZf284mY9VvUuhrTiYsBAAAAAADgIBoh0mfPc6LePT127BcnYUammEc6aTEAAAAAAAAcSD2RvhzTVatFLefoz+xvIUXaZAILp/utxPOPgf1ih175Tq2wR3UpX4lfjn/TnHq0K2ZGfe/8krYAAAAA4MuxHF9ZjdBn1VCwpPGVrx+8IxITQnpJcJTpJkF/yfmE2kbWRkZf7Q65yKLt9pASHUCpxmPCOl5JCcN+EaIlonZ4Y2kR+vewPinGXChLkzdOtMlmsRm125vRwn5kpj3aEPnfKcz39uhN7bcyi1Gb0/U2XqrFaNMuzhfyj+uiPqfSKuzvTl1UHd2qFXVOVffv37/2LwAuF9g5uBRgy0Cinl1MNz3WBW3WG5FOkbDaxdcRJo8qLVSpm8S8Q+KyjMYS9FJ7xH9Zpr1I/8TnlbejVr9WaryiP5w+t+e03cRRvYW2qfPcz0U7vO9CTVmU73+X3Se2XuaQ7CZnnAw1RLqAYDS7gmJhHCOlcSqvGxpXWsR2ijeABTnGXRhNIhEcPvgKwM7BpQBbBhJ17EILNdYERtdUi/RIWDL6O08QxmTppgwdI9czyFMQ5Ns023oaHRbpqRJNlt+vGRov0Va/fWGdLWL7fLLGM6pDZp/Y81S6VDlZ42Q5LCZ99UZr+2dB5/GDhf9HXnz58ole1m0aPbihLgN6VTcPr3H4y74sn15o3R6RVwwAAAAAgMSsT8N5j6a5WmRpQnfbowdWMQXmXbj23c/Sd+Fq6aYSVm+syNo3dGs/Gzp0e83/e185YSBtuvESdejnHUvL9Rut1Mflit75f9e3QYVub/jMNb3pRPuSofG0tgzryLU0DaGVGxZyfev37eAHsZjm5kqxIwbdT1WE+ja3TzqP9MHt+ygZzPxxOujF0Rn1h9oi9xa/s18TFs939PNAw1QsV6r72nQXZTajXxMe7opJUgyIFBsPAAAAgK+C0Te96asjuMvRi4EsD+9dcVYIu7dfTuyxOlJxytXMh04+Xvz1krQMCkUrc3vjCPAcEiKZVTIZHZkWwMfA6LlrCvXwUW4S9M2Xkq7uzVSIoG+P1if1xqmmSHcD3Yc05wYsPvbdLSXvDjMPI8TFHWJmzzQXxbvLksbmFhir7QAAAMAXZtY3+iZfDxQa5Ico/ObvN7Qw4cV8LGjUntOwrlC3K7QmD3VMqbeeULduPnqleU2TX+5ZS3p68daNzwC7+j//7b9wqTVfgN7m22pXFt/t0UJY6T6mvj0eNUW6fUxhj+m1MpDEG7dVZInnHNQbtNyhbHbSYym9vWPFav2s36WJCrv5g+0ZAQAAgC+LXmmtpwfM7nFh6O4Of+vnDj3e64AMP2yjNqzHpiqfOT3XU+n0uhhRez7cCdfWd3q7ZsF7ZqgwoWmPbzi6RTv4eOb+tr9vGbx6NzfXky6nDXdTOaK+PSIHxaQPXtUdIdH65Ymlcj2Osze6EuhWYC+kx1LVe6OrLX7UU43e9PB4MAAAAACcLybUwhd+XbVKzmJ4qD4LWx4mn+SXcmhsN6PDPwrkmGZFFAMdrcp/0MMNf1+kSYWVpOKyj4wYe64QQk4Gr247+Hj9ob9P19HepHBOL09p5Rrp26P1SY1xYg57cXRf7AsWh8Z/b1fAF7LAjvdG91H7XRqBvqEjvqcKAAAAgDPEvMTpC7+FUmvqab0WgYFYsOEVop6x8crzYKm7eIcuim+uSyBa5dhzs1gpxUDvCN7dS8RZm7j7I9S7ioQg1ou7Uqy6Q5Xu25sj9kmtcWIDzENvK+NvGWO2kUlse5jYTkaRtf2NomS7H2kPS590+Yqi7omfI7CdF/gKwM7BpQBbBhL72EVasyS2AXQw58Zb9MnaJKVbzPfe11I+wndR+RFyG2KNFe/t7bLXfEtqPFsnt8+drQ2TCNsv6vb7HWfzDsekWt/W7ZOk3dQYp3yRzpgK+kdYt6Jh8VEUnjLCAtto6SjOKRooHrZDbBq5mJIyRIOBwwdfA9g5uBRgy0DiqCI9Y09uRaidQqFZrZsYW5Z7iII10kdhvWP9kxK+VfV2ye/XDI2nKcT07gj7Oe43YYzE8uJ0OfpWUdknJfrUS1s5ToaW+g8n+DzUP73andD1iUNMVChLd3JN003+Fkpl/Pv3j759+2Y/AXCZwM7BpQBbBhKwi9OAfj0Nnx6TbvZGP/VWhza+qnQfTAAAAAAAAJrJp4t0/SbuyfeeNFvplP2LTwAAAAAAADSV/2Z3FwAAAAAAAEASiHQAAAAAAAAaBkQ6AAAAAAAADQMiHQAAAAAAgIYBkQ4AAAAAAEDDgEgHAAAAAACgYUCkAwAAAAAA0DAg0gEAAAAAAGgYEOkAAAAAAAA0DIh0AAAAAAAAGgZEOgAAAAAAAA0DIh0AAAAAAICG0XyRvhzTVatFre3Rp5n9aUuU5orGS/vblhn1vTQtuooTgUtg1vfGObaH0BYke1HZuGla1A8Mbzm+8n5PpYvtMyOvqzFJ1hml8zJa0vjK+S08ooqB41G/7419ybaXbVsFjo2JaSpsMLR1c8R1K7c/S47PZqrmlyLuBzmvxiL0u3uUjoE4kBbr46RrWC3bOZGvjP1X7vW3urxcWwU+Yb9l2U6ZDX4Rcvotz+flzaWITZNZjDZtrmJ7tLBfbDbTHm2Iepup/cyJNqN2e7NLoj6rNO535rze7iTOus1p/O/K+Pv3r/0LNBkzrv7Y+0w3PR53cgY+PsfaUHvEf1mmvchezHmuLQokz3PKU3bulmXt3iufiesZt0XE5pdj67DzIyP1fTG++pBtNcu2HLRfZD8ojrNggyHmfN/eQrLsz7at2mcH5Ql1zDqvhCbbcjS+qv1+43V/xHO7uL6Zw+3nglzbicczZE9fKZyXd/3NKc/klWsDEl/Rx0VzSZincV9nXl8sl9ivOf0mfRf7rjzblmi0SJcno2ms5Jy2WAdXmiYnHweIlzPATpYyn2ImRngBsxea4kRR1MQXIzkvHzFNRj3NJI8dZmSvuq7lEz12GGlg58el1FmXjF2ObW3R+XBa0a7y/Jzsa13y7C/LZ2fNr2BOWur0S3Nt2bGBJLb9QVt39pQe16w+OpavTNRjH3vKKy8n73K+nI9LjLXf3wl7yri+FFxcv2b1W8oe/f7MtW2JBoe7LGn1zv+7vqWO+cJySzfcc+u3lf28J8sVqezB5bB8eqE19ejHwH4hsHpbs8+5YSty6dDtNf/vfeU8om3TjZeoQz/vtOFRHcvr6Izn9Ow++1q9cT3D/Cuw9np9688Gur3hnNaUnA7LMf2ec2tGD1TSLeAUiH0/oFe1OPJ6rNGYUX84Zz//Ko/v7Jmtr013PwO7qUuW/dXx2VXzy87J+bP32Fiev+fFcvxbj8noob4NDF7VwlpirGtwPF9px/blyfGdKTtwEK6/+b4Z1CJxvTHXpndaqY7d9/pyyeT0W6bPO8S2GyzSV2TaFfRQRsOWutfKLkxLGn+faCd1/5h0I+DMMBOB6DmIDd7FkKUvHrdmRtUS4IY5DcWyLINX4jttmg/59/7MxPxpUfVBadOz9Wzf0daEU8K+c0tmOsizobgYw84/n8P7vsK2mFl/SPPelFKa3/jCa3r7tctHH1Ks6XpCXSeNlyTL/vb32RKD1yn3numD/szE/A/nPZp+PEbz93xY0tMLd1LvvmT+K0xfUu/HnoK83HaO5ys79PhnRG1tOyrGVsXddmlCI1okb0Sl629N31xmq8Cj8AGh/vYE+J7Xl0smq9+yfN5huuMCd3eZ0a+J5ATdF7vYiazZ2R9hRQI0jPWc6F6HcZmDFfJ60hUFTpLBD758rGnyy/X89uLq0Hn82JXjlBUKILX6tRjxZJwPqattMy2qNLNfbJ/KhA8VI8Vc2PdCD/bnsL7Psq1Zn0VrzorsnN5vFru8Fiyq2BbdvMwK7e5Q9qpuLGvNm1wy5xcnpNfNgszUUT5bTZ0z99nF3C5bwmYOWW3P9UtH8ZWKziN9bNQNFY9pl28aVb3/hL7reNffT7VVAP5jLkykK0egnAQ7gEgF8R3/hzux381KA27BL4v2iLzr2uBBX+TrhUexOCiEjF2pabW+09s1Z1SGXTX3HtHbt767L3e00LbHFzOdb+LNbpV+yBfPKiGfwSEXenAYR+/7yLZMmEt79KdiRVYRrOazqLpXeZWsbHce/5h544UxHIu8+WV2mujSy529weAO0E+kEjsfNR++Ppn4J99HhfDNl7qZzxvbDCS/pDiKr1TVVeM3JFbd9tpKLNb5O+/aerrr72ltFYD/lgaL9FTseerRgRLo6g6dL4yL6jt0tdogOi5wmWhBkn7sHsWM6dWh3UVls/mghxv+viIeVj++2sI2qR7r8sVwsX1Er1YH7aqTt5LIKIHetelDhZ6KDUzFErJVy0+UwOk5Td97tmXHXa+QFkJX2Q5/p4VszlaFpY9Z7VwpyLK/Gj67an7xXPiuheqCPopOZLGphDo3msKpcxbkPCFTWyLam/Rtu4+A75cqqOMr9dMcVd3NdlFBXVvNk8PfyS3m4utvDd8cEdgq8PBjqB3cEJfa15fLJ6vfsnzeIbbdaJGeaNjyidRT0TAGaNYvBHpZrC+4ZEx81ws9eQZjYzutQJBjwGb0zBcaT0REGOHVvvtZkiYx6aJ8zcT2mVG/EOhSzG0iNtDEPQuxhDP1wiBfPCseq4MTcKK+92wrErl8qNVp/kkJpuLlQvHF5eICUnpxCIR1lv3V89k+8vyKxIEWE+fJTDuZkpc1nadox3ux2BD6peP6ytj/GLurx/6+ObVwBzQJAW7s0cZc172+fAVy+o0tLsfn7W/bDDv35mK36nK3BeK772grG/Nd2TZBajuc4Hebt7qi5YCt6c4Bs+2RO6aRbdhtldw0ZnukMvuxWyW52yzpfHw7NPn4WzaJthltQWfrXbGtWJxX3F6DUN9MYOeHUqPvU9ubZdpWhLhlWFyfKC9Vj6C+kt1m2V+mz/aR+kyeE9V57WiULduxiba4KxD8Ujmmf6L8sm0nHrtofIU6Rb5SrHc4nqqswM6l629OeZm2WsbX83F2PFy7sH0dz1O3H4X5XcLl9WtevxW2XOrzcmw7QbNFuqKYzMURTNBt48Vj10mFo3KPpMMUgHg5EyJ78C9Ymso01jk5h2QrZiK6hzzh4nT+BVOyze0ROMgwL9GG7ZzJ9K0esPMDqez72La2h3NSrm15WLuOyw7LDPMqLkbuIcwbpo79bY/QZ2fOLyldql4STbJl02/puks+ojjcvkmn2+WdbTtH8ZVMlIaPYMyzr7+V5eXbaoqv6ePifpN8VNb8TnCZ/ZrXb9xxXprY5zE5c0mgpf7DJ4AK/v37R9++fbOfALhMYOfgUoAtAwnYxWlAv56GC9yCEQAAAAAAgPMGIh0AAAAAAICGAZEOAAAAAABAw4BIBwAAAAAAoGFApAMAAAAAANAwINIBAAAAAABoGBDpAAAAAAAANAyIdAAAAAAAABoGRDoAAAAAAAANo6X+KVf7NwAAAAAAAKABtDaM/RuUgH/yFnwFYOfgUoAtAwnYxWlAv54GhLsAAAAAAADQMCDSAQAAAAAAaBgQ6QAAAAAAADQMiHQAAAAAAAAaBkQ6AAAAAAAADQMiHQAAAAAAgIYBkQ4AAAAAAEDDgEgHAAAAAACgYTRDpM/61Gpd0XhpP5+IWb9FrasxnbgYAAAAAAAADqIRIn32PCfq3dNjx35xEmZkinmkkxYDAAAAAADAgdQT6csxXbVa1HKO/sz+FlKkTSawcLrfSjz/GNgvduiV79QKe1SX8pX45fg3zalHu2Jm1PfOL2kLAAAAAL4cy/GV1Qh9Vg0COhLA1RKxFjFaxjmEJ/q7corDLW9J4yv3t+AQxMsx9FNUpyOLpNI6MmG/XcmVzNClod4TyszqkyrdmD9O5ePtsMlmsRm125vRwn5kpj3aEPnfKcz39uhN7bcyi1Gb0/U2XqrFaNMuzhfyj+uiPqfSKuzvTl1UHd2qFXVOVffv37/2LwAuF9g5uBRgy0Cinl1MNz3WBW3WG5FOYYx+SekOhdUe7RH/VWDyDPWIn790noDVSp5uOZJ+itsW19ulVr9W1lHoE3tO20087ek83Crl1DtOk9cndXXjlnCc1GfJJoTxriHSBcKCmV3jbSNLay+lcTpUD4DfSUnsYHkDWCDUM8KmOYoBAnCmwM7BpQBbBhJ17EKLMNYERtfIi4mlusLqmVCX6Hy3gkzWSmKZAZGQPZp+kutdlmd+v2bUMdG3YZ/kjIvcjxn6tExTFlToxoJ4nGJS431YTPrqjdb2z4LO4wcL/4+8+PLlE72s2zR6cENdBvSqbh5e4/CXfVk+vdC6PSKvGAAAAAAAiVmfhvMeTRNaROsKL4RW4pZuWMWtX56c8JYlrd75f9e39v24Dt1e8//mz164w+qN1VX7hnNIYEOF26MHVk0FR9JPyxWZKgZC7vaG2tzqt5X9vBcZddTask03QeM7uqPeaWU703ye07Pfcd65cj/aPn9fRWFHR0ccpxhdT4EDRPqM+kNd8t7id/ZrwuL5jn4e4U3Opbb6Nt1Fmc3o14SH7O5n+Quj9oZDio0HAAAAwFfB6Jve9DUprIz4I3oOYpD9uOkOPf4ZUXs9oa6OcVYxzV2a0IgWjkgdvE5Z7s9pyOf3ZyauWd8gfKQ3uihuEu6PsONGpJ8SIplVMRlte1ppa+pzTeE9QnSTMHilaY9l+pD7vj8zcd563IqF4vCGaMetvnt6o9T9RlpTOmToxqxx0jeESk7HQr6mSHeD5oc0Z4G+KDGicsxuK5XiOQsjxMUdYmbPbPoVHa2C/c2tDlbbAQAAgC/MrG/0TaUeWLNuuNdhw+ZgxbiedH2h3nmkj40S4WuadDlf1iOjP6FuUqvLCxqxbpwPWcQrOVNyg7DTPD9KV2fzKNFPZ8DgdUML03HUNR1Hhwdi5PRJjm4sGSf3hWNW6O3Rgj6EwmqKdPuYwh7Ta3V3mHjjtoos8ZyDuutUhi8/ltLbO1as1s/6alJIEwcAAAAAXwa9qpmpB0KBNnjQQnvtxIOYHUqGRFOjmxYjYrHO30U7fXTp5W6xFft6dTjx77qY3erCUOF9KNdPjcfuyNJ9uaOF1qV8M8RivWzHmGry+iRHN5aO0+B1q6VVva/55k6sNyc4ABt8L76BXB6YrwPpK4LtTeB+2YsPtoxkGvOCQvm7Aer8qpc/8BIS+BrAzsGlAFsGElV2YV7gM7pAPKxY0Noh0j6BJrIvH4b6wpRhdYt9+VB+SVPSJs6Ll2Ucop9SL8Wmvmf2mm+pOmZ9n9Kffv/I45T6vkpTGvJ0Y+Y4FSTs4LAXR/fFBtIfGv+9vZNZyC+qxnuj+6i7VxUHxH14hMcjAAAAADhnzOYXxQqnOXQ4hVpZVZ+tWDAxzS/05K18rki//+fFQKdegPSRX9IU0FEIJ9ZPidhzE18txKofm8QLqjoyIoxVj+LNzcu6BXLsuQm3Ds+t0pSKbN14pHHKX0nXKt/fHqa445S3qLF3JMJdhDmvfDsaTcmdoLmTKbvbSZevKOqee5ODVRnwFYCdg0sBtgwk9rELWbPEK6WRLrGro74OCVeAbT7Bqq7JKywztXoscJB+ktKUrwwfdSW9aKfbfmGlWWyHztPRdsIYmPH0z8vpk3zdWD5OOh/JJoTy80U6YxrhH2Fli0bER1G4rUyyldYQpKM4p+h08bCDatPIxZSUkRgkOHzwFYCdg0sBtgwkjifSmUiL5KThIxJvkiYR8goFaMSR9JMl1Hzygqwhv18z6qgphOvukNqdo0srxymrT2roxr3GSRhvpqX+wwk+DxXo353Q9YlDTNQjie7kmqabsjek8/n37x99+/bNfgLgMoGdg0sBtgwkYBenAf16Gj49Jt3sjX7qrQ7NtjdVm8cDAAAAAADQRD5dpKs9LTd7762ei9kqUtpzEgAAAAAAgKbz3+zuAgAAAAAAAEgCkQ4AAAAAAEDDgEgHAAAAAACgYUCkAwAAAAAA0DAg0gEAAAAAAGgYEOkAAAAAAAA0DIh0AAAAAAAAGgZEOgAAAAAAAA0DIh0AAAAAAICGAZEOAAAAAABAw4BIBwAAAAAAoGFApAMAAAAAANAwmi/Sl2O6arWotT36NLM/bYnSXNF4aX/bMqO+l6ZF/SgjcL4saXzlj693hIMd2YxkD0KegtHM+kGaqzGfuSP6PWV4WXXao7zgd3AKatofY8ZJ8lWK2F9dSQmzbCbMS/ChDlv7CexmOb5y8tgdojnP+kG6VDvT5WX3QZMRxsc93L6L5q3YsRbbv1J/HHecwjGQx7Ha5+SOZV554nwr6y8QjVGW7aBPs/otnueSj8217YBNk1mMNm2uYnu0sF9sNtMebYh6m6n9zIk2o3Z7s0uiPqs07nfmvN7uJJuP/10Zf//+tX+Bs8LakDfO017G2E83PU5DpYmsrbVH/FcCVZZveLrsKN+sOu1Rnm1/eTt2wM6PjGR/xZjow/dTBaG/WozasX0INmPSOXlm+VAHnb69aQt2ZvJOnOcQ1aGMkvKy+qCEJtty1Je5fqLwAeq3YFwLjjdOsQ+Mz5F8Unxe3ljmlKfI8c1pvqKPi+a84Bfivq7Xz5fYrzn9Jn0X+9hc245ptEjXDY0EiWms5Jy2WAdXmsZ27Fc2wK9AarKU2gYj256PmWTVF0Of4iJbv077lZfXlgLY+XEpddbaT1U7aUNsI6I9WL9WuLW4fEa60GiMbarvJZvJsr+g/HLKy4vJmycFzbVlxwaSSH7CHc90XxxrnOR8bL22J8r1qB7PTHuOysvJu5wv5+MSY+33d8Keavioi+vXrH5L2aPfn7m2LdHgcJclrd75f9e31DFfWG7phntu/baynwFIsBzT7zm7mNEDDexXNHumObXp7qdvVT4zelbn3f0MbM9lSU8va553P3Z570tWnfYtz84j8PlI9sd/varFkdeaVrNcUTiMndtr/u+cnt3nqqs3WrMt3dzaz4r2DXtNh85PuhN86HL8nSY0oj+PZXZYzvLphcvv0Y+M5tUuT+iDc2Q5/q3n++ihvucYvKqFtdeDfU7OOK3e2N+EtsMeUZvd+4o9i8Jej1+e7GdF6trtIIxlXnk5vhl4SD6BMf7jnVaqY+14XN8GvXp7w2eu6UvKrZx+S9q6r1PzbFumwSJ9RaZdQQ9lNGype61C9OgBUJrnUHcHmkpxIbp3RICxjWt6++XGhvHhxt4VDuvtl5/GizOz9knPQSxaVZyZOc8V21l12rM8LYT4vN79Iy5qn4xkf/uxpPH3SZzX4JWmPZbpQ2MrOp50OKfe9INqF8k3FFwEjf5U2cmcho79hfGZ5mJE9BzEC0dxnNnlFST64OwobrbvK8Yo9hP1OHSc0kL71qgPrqGiQ49/RtReT6irfZGKu+3qm69F8kZUGsvM8rJ8M3Apri+h/vYEeEKQsiLlM5XcKrnIXChZ/VZcl0t1au5ckrnA3V1m9MuokhInyE7CLHHRHosZ4Cwo7EC6yM3p/WahQr3MseCLzHwYvSQzf7+hRZFms6BRW134/IvBms3ofptmw6JpTZNuWjinV9Hy6pRTnvvyT5f7oDfdUN2FW3AoZfaXg/tiHIuedY+mwgqqWlldjNjRs62osebB9sZ68INVPAuoX64ZLZ9I6cQdVjRVCMfO48fOPtXBdwjrSTeyUWukUTpXAOaUl9sHZ8Xsl7lprlgcOmS1/XjjlEnnkT42U5bcyhcNTb2jm6/jjmWObwbgErgwka4cgXIS7ABKVMmsr5yE5EjApVB+kQtW4/gic89aJnw6468+d+jRJLKPuQx+KAOLogcW19u77IBZXwup9uiPIE7y6pRTnneRZrH/rlZacQH7VA4RWQa2t49ChCgh/m5WRl2hZXcU6L7cWcHCQknd2LlPVwavWsTr1XYtkPj4/kbXrOsLzNOWcp8pYlfyaf7s21a4+DF4YBHFmtAaaX55GX1wVvD1KWdxqNRP7MGe45SL2f1iSKy67TgRi/VwnI47ljm+GYBLoMEiPRV7nnp0oAS6Fd+L9B26cihD9pN7PRIGZ0LO0xSBisdOhrz4vOjxoNrqzBgefdSpVFadhPIK1CqXuUL7scvghOxpfyWoGy9faLG/U6vRLLQWH4VgUfHudkXTWTqPVlY/HuiGvy8e0erQB7YPNzxCmapage/y32Urq/pxbS72hnPf8uI+ODOKVXRPYAbs6ycqqD9O6bBSL76W62uqu3tap8bJPN35nXyiGI9lZnml5Pnmr4YfQ+3ghrikYs9TsepfgKx+y9Kph9l2g0V6omH2UW0YA7RdHV+kxbcKAwgdCrhA9IuYPM7CI2XxZbtiQhWTxcbhzQNVW7zr4E1O74Upxr7r4Dk1teJpL7zSC4NZdapTHvhvKbG/oxMtVhg7KUWLxd07O+ZlRP/QAkrdAPDfZWIxvMiYGMsXevKN1MRX27oeUt45M1NvPPItVNIsKvzEIewzTnK8rHlx07e71Mt19cgqL8s3A4+EADf2aGOuE7Hn5r2aL9qvOf3GVpmjU/PnkgA7yOYibKXIzjzaysZ8V75NkNkCJ3drsBhsTXcu2G2Nklt0xb9LtmG+c2zKbsek7vC2WPvcfWW2XfLKls6LyKtTTnlqLvjbaNk00fZPMrDzQ6myP4fk9mZqzILv7di7diT6vchGAqw9RlutBei8Izv2bUj2qdbequoZEJWX2QdlNMqWq/o9y0+4mH6O8jvmOAl1yvKL0RzIHMuc8pi8OqT5ej7OjodrF7bPYm3l9nVsI2VcXr/m9Vthy3FfxudV2bZEs0W6opjMxRFe/IrGi0fRSdbYxKO6kxQQL2dClUjRhPYg24CZaLtDusAWF8DtERQc5uEefn55daoqT5wPOYLRAjs/kEr7K/FFkQP3f5fsT7Ivr+zQf2b6O51vYDdxWYm8Ihv0RaOEVF5uH6Roki2bvkv3gzSOxRFf/KVjl/dRx2mvNHzsO5aZthO28Vzt4vMoBOfukHwU+jUkr9+447w04jV3D7+oaKn/8Amggn///tG3b9/sJwAuE9g5uBRgy0ACdnEa0K+n4QK3YAQAAAAAAOC8gUgHAAAAAACgYUCkAwAAAAAA0DAg0gEAAAAAAGgYEOkAAAAAAAA0DIh0AAAAAAAAGgZEOgAAAAAAAA0DIh0AAAAAAICG0VL/SpT9GwAAAAAAANAA8C+OZoJ/TQt8BWDn4FKALQMJ2MVpQL+eBoS7AAAAAAAA0DAg0gEAAAAAAGgYEOkAAAAAAAA0DIh0AAAAAAAAGgZEOgAAAAAAAA0DIh0AAAAAAICGAZEOAAAAAABAw4BIBwAAAAAAoGE0Q6TP+tRqXdF4aT+fiFm/Ra2rMZ24GAAAAAAAAA6iESJ99jwn6t3TY8d+cRJmZIp5pJMWAwAAAAAAwIHUE+nLMV21WtRyjv7M/hZSpE0msHC630o8/xjYL3bole/UCntUl/KV+OX4N82pR7tiZtT3zi9pCwAAAAC+HMvxldUIfVYNPkajOIckImpolSg/6cm/jjxw07n5xbpGHyURBNsyhTS7ttvjyCKpVOMxYX9cCQmzxmDLrn+8vKI+dY9d/aL+sIdXpKCT9RHVKxwruR9qiPQljb+/0N1iQ5uNOaY9ovkwzlh3WndCa/u5jOXTC6dzxTNjGzlk8S4T1mVBo/aaJt3UYC/p6YVr0/tBRTGz/pBoGrYFQh0AAAAAihn9mqyp3W7bzw4s7IY03WqIjRERgRjL1Sqc7oo1z/uIFkV+6vjwn/xrkTh8p5GjwzabjygKoT1aOL/zEeSzRS+Strl99rODKotlnFPWlHpR+/akUuMZHTmc91im2fIXI+KOi8R19Rjs0Iu13NiouYPXXR7OobKj9h399DrPqZM9XuM1Zuo5+lIfXiIl0Ic07+3qbponaFj+cX8Wow03dsOV2bIYtTfcqs1osdiM2rRRNU0jpZluuF/Md9Oezcv+VIZOSxs2TvuFg1DPCJsmVd+/f//avwC4XGDn4FKALQOJOnbBIk1rAqNreqxOyrB6piqdoFWy8s/RMVY/iToowtRXpdXtbI/4m4JEPiWaLL9fMzReoq3V/VQyBjpPVVZmH9k6nGKc5HxkzXxYTPrqLVot7zx+sPCP7+xElk/0sm7T6MG9wxjQa3TXcRh6tb49Iq8YAAAAAAAJtUqrVnKPqEVk4if9EmLUwQEsx99pQiP6I4m15Yre+X/Xt8FvtzfU5lq8reznvcjQeFpbtunm1n62dG6v+b/vtBIjJspQTzTUY4E/2e8+zn6paJAe3Z/gZcnVG493+4b85nXING/Ftd1xgEifUV89qzhA/OpOiB4l7MdypUyqTXdRZvZx1d3P8hdG7Q2HFBsPAAAAgK+C0Te96WupcPZZkdJelWI70irmvDY9l8auG2FH9HzlppHjtNeTrpMmjqVX4SZGsybCYBIimVUyGR1ZWyXXwvTRNYX3CNU3CfIYlN6QiJiNRtqjB2Es5zSs6H+FCp/ejoEX778k07zbqO9vb3iA12/cih01Rbob6D6kOQv0RSrWqRLbCVXiOQsjxMUdYmbP3KWSeHfhuyz19ipW2wEAAIAvjXpnTembOnrAbE4RRgaEpLXKmiXIvY1PVse0J8Sum0TbNCpORQnynVC0q9TbQ8XAK1Hp5mNWldcn31Hv8xHHQN+QrGvt7FfkE+pGEyni9K/tfy8GvvNIH24aFcu/nlBXulnKoKZI9w1geq0KTt9JlJIlnnNQL1zwhFLB/MLjE729Y8Vq/azfpYkKu0ndVQIAAADg8tFhLjX1AJ/TVU/sS8MpyrVKuGo7eBixQgpWjcMbh8EDi3C1+JpaWu7Q4x+Tz8uT0Wl6VXn9GWE8n4w4BsUNyVR8uVOmZNE3ZPBqXi6dP5cIcNbNJhE976HSD4pJH7yquzQ2kJcn7op6HGdvdGX0VmAvpMdS1XujmzeIOc00M44eAAAAABeJCbVQq9i7cAUl/rZhDuHOISwOW0ZE0EdSRFRplTRZoSVBHLOHDVEp0GEzRVvsoXdZ0au9dtE1FVaSilU/MsnY81QYTnIMbPiL2vFl2151o6Saq0KC4t1U8p6I7NAhKlXo/iyQY88VUqz6YS+O7ove9of788D47+0K+EIW2Kaz0y9aqC2GzLjKW+gAAAAA4OsQhTTwsVCrkWoFXH12xYLaStCKw7IXIcu1yi3pUORwsdO+J1cIYhOv/EJ2QdxiRagQ37wlENaDV79t6tALvSp8mf/WIjcRe25eXhVE8rFJ3CToxd0wVr10DMLwH3VMeSRVc9U2leF42Jd4a7wrKb8EGhDcXEix59w6vagcjSVXOg+9rYy/ZYzZRia1lY28nYwiaxsbRcl2P2xUyd8M6fIVRd3LtslxwXZe4CsAOweXAmwZSOxjF6JmsVvtpTRGQbVWYey2jLus7DaFwraIbnlh3uqzr8ekfGJ0PkGauN5x+S57zbekxhO2UhS2RMwdA5+SLRijcXAo0cC79Kbe3vlSHYXvTF5xX+SLdMYMmn+EjSkqHR9F4eXieWsI0lGcUzRQPGwn2jRyMSVliAYDhw++BrBzcCnAloHEsUS6pIeKYysAc7SKJdJOkniJ8vPzEMtLaq0dkkhXhG2UF2QN+f2aofE0hVDfHWFTssYgIiXSbXklNzRxeYJetELfPcS6VI2lpaX+wwk+D/Voojuh6xOHmJh/Leuappt68V8p/v37R9++fbOfALhMYOfgUoAtAwnYxWlAv56GT49JN3ujn3qrQ7s3urjHJQAAAAAAAM3m00W6fmlh773VczEvC6TftAYAAAAAAKC5/De7uwAAAAAAAACSQKQDAAAAAADQMCDSAQAAAAAAaBgQ6QAAAAAAADQMiHQAAAAAAAAaBkQ6AAAAAAAADQMiHQAAAAAAgIYBkQ4AAAAAAEDDgEgHAAAAAACgYUCkAwAAAAAA0DAg0gEAAAAAAGgYEOkAAAAAAAA0jOaL9OWYrlotam2PPs3sT1uiNFc0XtrfQoq0/SgXcAlEttCieKhn1PfSCDZVMOvrNFehQQnluEdUps1nd8g2Ouunf9uStOElja/cMoIDNn9C6vd9+ViHNirZsSXTttw8c+w5Lq9Gnbb9kZ5bpv3OcTXms3yW4ys/TdlcbSI1/ETUH+nO3Y55NI5M3GfmELOrtJ1wzMv8lnNEYxnbjlT3nPKishLpgE/Yb1m2U2aDX4ScfovnueSn8uZSxKbJLEabNlexPVrYLzabaY82RL3N1H7mRJtRu73ZJVGfVRr3O4M51x69XQ45/P371/4FGsu0p8fWHdrFqO3bQpZNKQo7MoebvgxTnp9XVAcJWy9TXjrtXjZs885JDjs/MlLfZ4y1Gmf3nGLcwzHMsi2LTsu+MrR//iXwoUV58Xc5deIf9PfmCOeVws6t9oj/Kphueiq9k5nJP/T14XlpmmzLkZ9QfeZ3rum/qHOr/ZLkgySqbScek/ic/LF0m2LyCW0npzyTV64NSHxFHxfNJeE6GPd1PB5lXGK/5vSb9F3su/JsW6LRIl2ejKaxknPaYh2cbIDWqWQaXgHES/MxYxxcnAKRFE8epnSSZdjbFsGpBeXLOOdp25Un7r42LLY5Aez8uJQ665KxjrB2VN+2LDqtKivTnnPyLqmTyl+cjxq5Dr6/l208nWdMc21Z8BMRhRj325rjl7L6KGN85XzCcckZS4n4vLzycvIu58v5uMRY+/2dsKcaPuri+jWr31L26Pdnrm1LNDjcZUmrd/7f9S11zBeWW7rhnlu/reznPDqPH3xD8kGPfmbggujcXvN/5/TsPmdavdGa2nRzaz8r2jdsRQ6dn3QX2NTgVd3AvtLAfs5hOf7Npbdp9LA7a/n0wuX36EdpRgN6VTfMr+Wl7WXDyzH9nnOTRw+12gKOgNj3eWOdQ55tKZY0/j4hGv3Jtx09b/ag80gf3L6P0oKsD395ckIiQn/fITOdn73Hxqs3rlU4f88MyU/kso9fksixHbmv7bi8r+zY5YylwHJFKolLXnmgNtI1kDHXy3daqY6143F9G4zY7Q2fuaaacusyyOm3pK37OvUQ226wSF+RaVfQQxkNW+pea9Pdz7ILBbg4Bq/Ed7U0H7Z0LJ2OrxvO+Ub1M27OlvT0wgbbu/fKMpOT6DmIV5bjMY9PcTG+P30HgICj9r0VzT1HVeXa1nL8nSY0oj/Z9ZhRn+cN311QqY4U6pRHhx7/jKi9nlBXx2WqWM2uruPCuXkZvE659+Y05Db1ZybGfTjv0fTjMbggnhOyn4gx1z/u3D0Fuem3lE1U205aaN8a9cE1VOSNpY+5afTnRm55Fl3ert4InU5j9NA1hfrbE+AJQcqKlM9UcutzrldNIqvfsnRqTdsOuMDdXWb0a5LjBMElolaaFiM2/PmQutoOpuReKwY/WMWzg//lOvXlE6nr5kHMfpEuThIsaxY89zq0zBx8J7GedD9BqBdzYd8LPdifY/Y9ixqzJB+L5irbWo7pO9ejd18lbN2XmoY057IWpWK4pE456BV3JcLXNOlyeXzZG/0Jy1NPHRZkpjMLPz2dD19F/k8p8xMOh6y2mydusU1ELwEeyy9ljaW5yTL2pcaSb7b2fCJgnibsDuXv1cLM6f0pAJ/PhYl05QiUk2AHcITHyeDMsG9Yd1/uaKEdOF84WKx7b1EPXrdOvViFaX1/o2sWAvtTIVjC7wcPWnjUDdmqyyEXenAYx+z7WV+JGkn4MKW2xXapViyDG1UZG4Zjj+m1WalMCZ/SOmVgdkwYEis1K7SIBR5/5whJs9NEl17uFqZeLCL1vBV2gTkPMm9sZn29wNCuE55Uhn3CGIYOHcsv5YylWll8/NjZ12L0blb6j7AE3nn8Y+rthdwAcBk0WKSnYs9Tjw6UQLcXjsWZr7aAPbCChC88uxVAJTzsCo+zdB6tNH080A1/Hz+yyqRYHatcrQw4aZwlnij9dxyv75UAUpEntUO2tG3ZkAl9o6qElBFTnJ1ZWS3ZAmzwalawJeGzd50KWISa8zfbmwc1J80TsN+mTvYJQHu02MW3s9hUQp0r7z8JOxdy/ITaEtF0TkVcfz30Y/VctO2kw0q9+NqcsRRQafwbh8zyROy5QMSPoXZwQ1xSseepWPUvQFa/ZenUQ2y70SI90TAbmhAKqu3KzgIvh35pops3M4lK0RfP/d9hmD0r2SO/hGVizl7oyTNiK56EGLWjMXvWYqx+vDA4mCP1vVpJDgWQS7Vt+avj5lA3rew/Wfzu8yJ9VZ3ySb2Q5SO/yHaelPkJjXoSaAX6MV4sdgnFQI5fkuNlZ6Sb4fmuvLGsIr+8kHTML2ASAtzYo425TsSem/dqhFj1r0BOv7HF5ejU/W2bYcfdXIStFPnuO9rKxnyXuZVZ5rY3IdiarvmIdmBtKDnczpZxMumtzjSZ57v2VmqvWVteVdmw/X2Pbcpg54dSo+9Lxnqht+yq2AKxrm1pBHvWNuz71KJ8N11enXaY9OG2Y4ydM779hv1m2xb0o+T/UzTKlqv8hNgnZST8UslY+lln2I5QJ5NXeRr+UhjLwCatX/bOyylPnSfaRJnN+3w9H2fHw7UL29eu/cT9GNtIGZfXr3n9Vthy3JfxeaW2naDZIl1RTObiCC9+RePFY9dJhaOKj7zJDfFyHpjJ4R+ejwntKTH+Uj7m8C+A0WSUiGw0TG+doXREk1pIE7bBtjHTt3rAzg+ksu9zxrokTTjWlbYVYvIOxV3lvMmtU4k/9sqU0oW+XSyzqn07mmTLVX4i7W+ki7907PKO0ySucTm2s1caPoKxlHxXaIOayvIK4VSWppyv6ePifpN8VGg74hgluMx+zes37jgvTezLmJy5JNBS/+ETQAX//v2jb9++2U8AXCawc3ApwJaBBOziNKBfT8MFbsEIAAAAAADAeQORDgAAAAAAQMOASAcAAAAAAKBhQKQDAAAAAADQMCDSAQAAAAAAaBgQ6QAAAAAAADQMiHQAAAAAAAAaBkQ6AAAAAAAADQMiHQAAAAAAgIbRUv+Uq/0bAAAAAAAA0ABaG8b+DUrAP3kLvgKwc3ApwJaBBOziNKBfTwPCXQAAAAAAAGgYEOkAAAAAAAA0DIh0AAAAAAAAGgZEOgAAAAAAAA0DIh0AAAAAAICGAZEOAAAAAABAw4BIBwAAAAAAoGFApAMAAAAAANAwINIBAAAAAABoGBDpAAAAAAAANAyIdAAAAAAAABoGRDoAAAAAAAANAyIdAAAAAACAhgGRDgAAAAAAQMOASAcAAAAAAKBhQKQDAAAAAADQMCDSAQAAAAAAaBgQ6QAAAAAAADSMZoj0WZ9arSsaL+3nEzHrt6h1NaYTFwMAAAAAAMBBNEKkz57nRL17euzYL07CjEwxj3TSYgAAAAAAADiQeiJ9OaarVotaztGf2d9CirTJBBZO91uJ5x8D+8UOvfKdWmGP6lK+Er8c/6Y59WhXzIz63vklbQEAAAAAAEdkp8OuQgFXS+MtaXyl0vQ5x5jl+MrJJ53OaM7dEdXJEqYTIzR0hIibLqx/qEHl9tUQ6dwJ31/obrGhzcYc0x7RfBhnrBvQndDafi5j+fTC6VzxzNjBGbJ4lwnrsqBRe02TbmoQl/T0wrXp/aCimFl/SDQN2wKhDgAAAABwavTiabtNbft5Rw2Np8VwlyYpwcl68vvLHS2s1ttspqw45zQMhLXSrcN5j2WhTbcYERcYCHVzMzB8Hzn58fHhR2jom4LhO40cvbzZfDjRIkqgD2nem25/N8UJ7eMf92cx2nDnbnrcqoLFqL0ham9Gi8Vm1KYNuT9GSGmmG9bL5rtpz+ZlfypDp6VNW0os1DPCpknV9+/fv/YvAC4X2Dm4FGDLQAJ2cRpq96vWXErfGc0najcXSeNZ3aa+M9qzxwqymihtQiOG6bLKyNCbcj6yZj4sJn31Fq2Wdx4/gjuGEpZP9LJu0+jBXUYf0Ku6s3iNw1/2Ra/Wt0fkFQMAAAAAAD4ZtVI+IRr9OexdxM4jfbBe/KiZyeotUK5ay7bp5tZ+tnRur/m/77TSq9txRIaEGB0SoMtv35BfXIdMcStvhf8AkT6jvopHOUD8zn5NWDzf0c9DBsmyXL3zf9t0F2U2o18T7v67n+UvjNobDik2HgAAAAAAHM5y/J0mNKI/NcR1WuPVZNbXodTt0cNWbJu8r+k2zPr2hktc09tKfViR1tb0XBorbwQ40bOOkd8du7CZJZnibiNNenvDJ67fuKQdNUW6G+g+pDkL9EUQi5OP2W2lUjxnYYS4uEPM7JnmlQPLd3Xq7VWstgMAAAAAnAYVI856rd5OeyUaLwf3JU5W6O3Rovbqe8GapeK9jSNXx7QnxMqbRNs0m2mP1lF8ex41RboNRSkqdz2hrneHUIMs8ZyDCuTnGwbq0VQIkdHbO1as1s/66qWDNo3+YHtGAAAAAIDjY8Jc1r0p5Uc0l2u8LAavO8G8mdI1C+aqHQFTuCvwisHDyFltt4QLvoMHGulFcjdRHgfFpA9e1Ru3XPDLE3djPY6zN7oaPCuwF69CnFD13ujmjV5OM82MowcAAAAAADUxISM0H+5WtlVUBn+lVppj4Vyl8fZhQK8LI6xfnkxhfuy5QyJWXeI9OllAx5vLsecKKVb9sBdH92WZ3hu9DtsV8IUssOO90X3UNjlGoG9q3NUBAAAAAIB6+NEYxcp2j39RISjhpiNVGu9oeLHnO/Ri8jZW/ZZ0yHi4KG3fZ7y2Ae0mrvyFrP632JsTG4cuxZ4Xi8phrHq+SNd7l/sbwOvgfyX8a8aV57z9WoVZAS8bvPI3cZVA76q4KAh0AAAAAIDGUK3x8tB7lnv/AI4NuXHDrTs/6Y5183zoaFy7mLwLb+nQ4z3fTqwn9GubKN5ApfN4z+p2TZNdIm6LelrAbbGJOj/v+NOchk69zKLyLs0WvpPJZtqjjTrFPeR9JeN03Aq733nV/ul2n3TpKM4p9jQXD7v3ZOlelSVlJPZlx96q4CsAOweXAmwZSMAuTsP+/Srsk56j8RQl6Xb5SXpP2uvcalMnnaQfI40rJwrqJZSXk4Zpqf9wgs9Drch3J3R94hVss1J+TdPNceKY/v37R9++fbOfALhMYOfgUoAtAwnYxWlAv56GT49JN3ujn3qrQ7s3evAWLgAAAAAAAOfAp4v0weuGNnvvrZ6LeTlh330wAQAAAAAA+C/5b3Z3AQAAAAAAACSBSAcAAAAAAKBhQKQDAAAAAADQMCDSAQAAAAAAaBgQ6QAAAAAAADQMiHQAAAAAAAAaBkQ6AAAAAAAADQMiHQAAAAAAgIYBkQ4AAAAAAEDDgEgHAAAAAACgYUCkAwAAAAAA0DAg0gEAAAAAAGgYzRfpyzFdtVrU2h59mtmftkRprmi8tL85LMdXTho++lFO4MyZ9Z3xVcfVmFxTiH53j4q0krmENnXlGd6Sxld+Ht7hZBjZZlAXw4z6bho+0iZclC3MF3BaZn1vjGJ/FI5jyRgVvi010Bn+MbKtvX1obH++vVuivAQ7rUoj/O4eabtvLlW+KWqz6AN2bPMT0uWMeWV9mDy/ZLF2L9oEE+UVDWJsX/oQysyp+9FJ2WTQjqz5xuS2obbdZJYnjVP1GAGRrDEI7VvWqRGbJrMYbdpcxfZoYb/YbKY92hD1NlP7mRNtRu32ZpdEfVZp3O9UVu3gu+mmx3lTb5dTGX///rV/gcYy7fnjae2neoyNLezszNpQe8R/WVTenMbNKrJFwV5FbLptXuqzW1ZRb/c7RpUXl+9/p7F1NYc7V6qBnR9G7GcCBBuJfZqhGF99SDack1doW9bWfdvK86Gh/Zm2BvYnzJO4T8LyinqX9JvF5JVn082xZcGfhET9VnGOHvs2j22cJrYnIa8cXxnaTpEmqlNhL+aQ/F/e9Tf0wxJSv3zStdy2v7SYsM+Kunnf5bahwgYUtk5V/kT0C8F5eWOU5steO7LGIO7LuL9lGi3SdUMjAzWNLZ3I1uHt0iTO0emqO0kB8XKeyDbkE00WQWhwKt9hChNTITnIkPw0FbZp6+A5UadedQRNAez8AGzfl13TxLEXbGlnk9buhExl2672j1l2EflQibgsMe+MfslKY8s7N9FQ3d8JMSb6IYVJr/o9tgHZXnLGXLYnH8kv7Ww6ZXu5199q202lyal7wUlFukDc93lt2H/MgvwT9fbzzx2jNF/12pEzBvJYpn27S4PDXZa0euf/Xd9Sx3xhuaUbtrj128p+zmC5IpOVnxPd3lCb1lQnK3BOWBsqZUa/JmueP/f06JlHm25u7Z+aDv2804ZHrrmENjX4wVOTrW2Veoy1HNPvOec+eqCB/eqodB7pg2++P/zGgE9g+fTC3qRHP6oGtn3DXsyh85OMae0sq/P4QZvNR2CTLvv7x9Ub2/sxsH7VpXN7zf+d07P7rHf1xv0SzqcAnaac5fg359ym0cNJZs6JWNLTi/IvP6rneziWgx9sTexNAmeyHH+nCY3oj2gcHTJD8Ow9btdjHtqdR46vlBm8qsW+13T7jnr9tfb98sQ1LkjNhWYQz7ecNuTYTaYPSMw/M1fttQoaaU/yxkCef3auvq8cO4hpsEhfkWlX6FaqG7bUvdamu5+221IXic4tmazKugicK/pipvzc/WMwgRxmz5964S+E3H2piLYTv31HhQmLWGHTq1SF4DMwjpjoOXgPIRWjexh7+sdZn4YZN4mRD41Y0vj7JLblwStNWVnOh9z2/ozn4BW1uMDetOyGY0Z9UylKT8NCtIQ3003HjhM9BzGrmfGoIXyTz91Ooz9pnzZ4nfKozGnI5fRn5t2U4bxH04/0OVm+MtcvhdS8/q4nXaefwtjeDj3+GVF7PaGu7kMV59vVNy2L18/xg9q2i/pVxcKL8y2nDTl2k+cDzFy+plB/ewIcGmlPcsYgJeTVEGglz7mkucDdXVIro+Ar4L740mU76E03lPbdfAHTy9rBRUevYK1p8su9PFiRUGBXP+e/fSc9e+b8khS2WbGqNvuVdcE0dS8TNuDTWfOY3OswQnOwYlWioxDq+kkLX5x903oi17SOjvsiKyuG9mhR8aQl5UOLl5HVwaJizcJPWEFVK6uLkZocQz0HeRIKc9B9iWpIc7bjRYmI3M6JM70hNWaxs4tpj/1LtxBc9ind/Lcv3PUCgou9Maq8tg3odbMgMwRqnNQQxONUz1cyWX7pEFS9nbmj26BuNoIbGv20UN2IqD5k22FxWXbTcjTsU8pd/bgOWmgHNxI58y2zDeV2A74CFybS1UVEGTxfPD7prho0CxMmYJ3aYkTvetVDfts9fdHhiwWf22aRsXW2re/0ds1XvS0devwonHSRpkXPbHspsh7Xq7fE1dKLKGx2zPrq4vtJFyeQT3jTNHjQYmn76HnwqgWstxr3/Y080zo2XOZ2TrAwuNYrlakLfZkPVTZf5KOE+LterfV2gLC7HHRf7mhhy+vpeRSW5wuy6bWZR/JTh/O/IQ2fXAwe2L8Uq5iM8ltGgDl28cxuwPysMavd1dc2I7679HK3MP3LN4ra3oJV31q+MtMvHRe74sz99PK0q7nZpWRIfIeo685VN/326TuRsA2rx0Y8W7zwroz5ltuGKrsBl0+DRXoqtjL16EBdXKxwWQSrBqm4qlQcFrgM1GqF5EQ1FRf+aNXkgx5u+Hsvrixc+dnQ6w/1vfBoMbk66aAuhN0JrdWqYsmVUDl4c70sCyEAjcIJP/HEkTo+HsiYVvjItIy6/rHA3oAGwsdQ4kMFjLDkP7bxz3y+Wun1VsXVHLErht7jA5/Bq1n59eN0LSdfwf3vcMMITGy3cxhnsr0+mdhmE8ZSCHnlB9STme0Njg6HWbNbc1ZvlWhUAxU+wXEp85WZfinJIddfG26xxYaPuKv+yg7Nk5vgScRnoNtWhjDfjtAGYzd5PsCLPXdxQ1ygkfYkZwzSIYjV74o0WqQnGmYfDYcXtO3K4kIQLom4KhMfLMRhgcunsKO7n5kXfiOyy9Nb4S+Fs9hH1+nH9TPqFxfC0tjRq8jBg2Zg4gtfyNe+JmaxuGCKaBFaFv8tUc8/5lDqQ+sQtdVcyPbFhJBlvJDbSOxFPLz5sO+TlIkf8+Rt1+5IxPOhdbXyGfy3G1IR5VspJlPk+aVSDrn+iiIxPscI0f+AVCx3JVVtyLGbTB+QEOBmXtkFJWikPckbAzn2fEZmCEquDQqe6M1F2AaMnVK0lY35rnyboDiN2SJHqZ0csDVd81Fj7NrKdoyFbawkO0qT2CItIJ1n1fm2nhX5m22c8rcAM+lz22iAnR9C7FMqfZOw/aJPyTZdGf5R24B3rs0vqFNlPXXbgt9t+ZXttem2yXSbfbssbDvqh8r+SdMYWw7bX9hJ2XyPzpHR/e3lI+cd2oX6XO0rM+rpYdJLYxXbhc07sB2xTm751h5Em86s5352Ycrwi43rkjXfctuQYzc2jdtv4Vjv6uB8J8yrnDEq48teO3LGIGUroa8UaLZIV9gO2B7hRCwaLx6uoRYdtzskZ5IC4uUMkGxBctyCg/Kxzsk54rSF43OOlDOruOAWAkU8tifFddodwgVAOHLsHXZ+IFH/+z4o8mcJJ522iSB9lX8U7SaoU6YPleok2VToZ9UR2n5OGkV0satBk2w56rugsXHf5rVZ98+xxjzIJ88vyWNpDr/MMF1kO1KdJKPIqHsZe9tFNHcl+8/oe0VmG6rsRlPpAxTx9So933ZHzjWj4EtfO3LGIBrzvDneUv/hE0AF//79o2/fvtlPAFwmsHNwKcCWgQTs4jSgX0/DBW7BCAAAAAAAwHkDkQ4AAAAAAEDDgEgHAAAAAACgYUCkAwAAAAAA0DAg0gEAAAAAAGgYEOkAAAAAAAA0DIh0AAAAAAAAGgZEOgAAAAAAAA2jpf6VKPs3AAAAAAAA4D+H6P8BGX7cizg9Zq4AAAAASUVORK5CYII=)\n",
        "\n"
      ],
      "metadata": {
        "id": "GYiRMSCw5MVY"
      }
    },
    {
      "cell_type": "code",
      "source": [],
      "metadata": {
        "id": "msZC0R3SLnbx"
      },
      "execution_count": null,
      "outputs": []
    }
  ]
}