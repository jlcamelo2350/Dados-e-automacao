{
 "cells": [
  {
   "cell_type": "code",
   "execution_count": null,
   "metadata": {},
   "outputs": [],
   "source": [
    "# Código em python que baixa os dados de várias ações no período entre 2022 e 2024\n",
    "#Depois, desenha-se o gráfico dessas ações.\n",
    "\n",
    "#Importo as bibliotecas para uso no python\n",
    "import pandas as pd\n",
    "import matplotlib.pyplot as plt\n",
    "import numpy as np\n",
    "import gdown\n",
    "import os\n",
    "\n",
    "# URL do arquivo Excel no Google Drive (link de download direto)\n",
    "url = 'https://docs.google.com/spreadsheets/d/1fG-I1Sn3sv_vIFZAGl2C54zLvw-Xqmit/export?format=xlsx'\n",
    "\n",
    "# faço o download do arquivo\n",
    "downloads_dir = os.path.join(os.path.expanduser('~'), 'Downloads')\n",
    "caminho = os.path.join(downloads_dir, 'portfólio_RV.xlsx')\n",
    "\n",
    "# Faz o download do arquivo\n",
    "gdown.download(url, caminho, quiet=False)\n",
    "\n",
    "# Carregar os dados do arquivo Excel\n",
    "dados = pd.read_excel(caminho, index_col=0, parse_dates=True)\n",
    "\n",
    "empresas = dados.columns\n",
    "\n",
    "# Plotar um gráfico de linha para cada coluna da planilha\n",
    "for empresa in empresas:\n",
    "    plt.figure(figsize=(12, 6))\n",
    "\n",
    "    # Desenho um gráfico de linhas para cada empresa\n",
    "    plt.plot(dados.index, dados[empresa], label=empresa, color=np.random.choice(['red', 'blue', 'green']))\n",
    "    \n",
    "    # Desenho uma linha de tendência para empresa\n",
    "    coef = np.polyfit(range(len(dados)), dados[empresa], 1)\n",
    "    tendencia = np.polyval(coef, range(len(dados)))\n",
    "    plt.plot(dados.index, tendencia, linestyle='--', color='black')\n",
    "\n",
    "    plt.xlabel('Data')\n",
    "    plt.ylabel('Preço da Ação')\n",
    "    plt.title(f'Preço da Ação {empresa} ao Longo do Tempo')\n",
    "    plt.legend()\n",
    "    plt.grid(True)\n",
    "    plt.show()\n"
   ]
  },
  {
   "cell_type": "markdown",
   "metadata": {},
   "source": []
  }
 ],
 "metadata": {
  "kernelspec": {
   "display_name": "Python 3",
   "language": "python",
   "name": "python3"
  },
  "language_info": {
   "name": "python",
   "version": "3.11.9"
  }
 },
 "nbformat": 4,
 "nbformat_minor": 2
}
