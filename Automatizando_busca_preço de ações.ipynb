{
 "cells": [
  {
   "cell_type": "code",
   "execution_count": null,
   "metadata": {},
   "outputs": [],
   "source": [
    "## Basta chamar a função 'dados_portfolio()' e os preços das ações das maiores empresas listadas na B3 aparece pra vc em um arquivo xlsx (excel) na pasta de downloads\n",
    "\n",
    "import pandas as pd\n",
    "import yfinance as yf\n",
    "import datetime\n",
    "import os\n",
    "\n",
    "def dados_portfolio():\n",
    "    # Definir o intervalo de datas: de 01/01/2022 até 04/01/2024.\n",
    "    start = datetime.datetime(2022, 1, 1)\n",
    "    end = datetime.datetime(2024, 4, 1)\n",
    "\n",
    "    # Lista de tickers das empresas\n",
    "    tickers = ['ITUB4.SA', 'VALE3.SA', 'PETR4.SA', 'BBDC4.SA', 'B3SA3.SA', 'ABEV3.SA', 'PETR3.SA', 'BBAS3.SA', 'BBDC3.SA',\n",
    "           'BBSE3.SA', 'RENT3.SA', 'ITSA4.SA', 'BBSE3.SA', 'LREN3.SA', 'JBSS3.SA', 'NTCO3.SA', 'GGBR4.SA', 'WEGE3.SA',\n",
    "           'SUZB3.SA', 'IRBR3.SA', 'ELET3.SA', 'ELET6.SA', 'CSAN3.SA', 'BRML3.SA', 'CIEL3.SA', 'BRFS3.SA', 'CCRO3.SA',\n",
    "           'HYPE3.SA', 'MRFG3.SA', 'SBSP3.SA', 'RAIL3.SA', 'EMBR3.SA', 'BTOW3.SA', 'BEEF3.SA', 'VVAR3.SA', 'TIMP3.SA',\n",
    "           'EGIE3.SA', 'BRDT3.SA', 'CSNA3.SA', 'QUAL3.SA', 'USIM5.SA', 'MULT3.SA', 'GOLL4.SA', 'IRBR3.SA', 'HAPV3.SA',\n",
    "           'EVEN3.SA', 'MGLU3.SA', 'CYRE3.SA', 'SBFG3.SA', 'MRVE3.SA', 'AZUL4.SA', 'YDUQ3.SA', 'CMIG4.SA', 'BRAP4.SA',\n",
    "           'TOTS3.SA', 'CCXC3.SA', 'PCAR3.SA', 'ENEV3.SA', 'CRFB3.SA', 'UGPA3.SA', 'CVCB3.SA', 'CIEL3.SA', 'BRML3.SA',\n",
    "           'BRKM5.SA', 'MRFG3.SA', 'CSMG3.SA', 'LAME4.SA', 'GOAU4.SA', 'UGPA3.SA', 'VIVT4.SA', 'HYPE3.SA', 'SMTO3.SA',\n",
    "           'IRBR3.SA', 'MRVE3.SA', 'BIDI4.SA', 'QUAL3.SA', 'KLBN11.SA', 'SMLS3.SA', 'ECOR3.SA', 'EVEN3.SA', 'BBDC3.SA',\n",
    "           'LREN3.SA', 'TAEE11.SA', 'TUPY3.SA', 'ECOR3.SA', 'HGTX3.SA', 'CMIG4.SA', 'BRAP4.SA', 'GGBR4.SA', 'SUZB3.SA',\n",
    "           'ENBR3.SA', 'CVCB3.SA', 'IRBR3.SA', 'BRKM5.SA']\n",
    "\n",
    "    # Criar um DataFrame vazio para armazenar os dados\n",
    "    df = pd.DataFrame()\n",
    "\n",
    "    # Baixar os dados de fechamento para cada empresa e armazenar no DataFrame df\n",
    "    for ticker in tickers:\n",
    "        try:\n",
    "            data = yf.download(ticker, start=start, end=end)['Close']\n",
    "            # Renomear a coluna do DataFrame para incluir o ticker. split é quebra\n",
    "            df[ticker.split('.')[0]] = data\n",
    "        except Exception as e:\n",
    "            print(f\"Erro ao baixar dados para {ticker}: {e}\")\n",
    "\n",
    "    # Resetar o índice para incluir a coluna de datas no DataFrame\n",
    "    df.reset_index(inplace=True)\n",
    "\n",
    "    # Mostrar as primeiras linhas do DataFrame\n",
    "    print(df.head())\n",
    "\n",
    "    # Salvar o DataFrame df para Excel na pasta de downloads do usuário\n",
    "    caminho = os.path.join(os.path.expanduser('~'), 'Downloads')\n",
    "    df.to_excel(os.path.join(caminho, 'portfólio_RV.xlsx'), index=False)\n",
    "\n",
    "# Chamada da função\n",
    "dados_portfolio()"
   ]
  }
 ],
 "metadata": {
  "kernelspec": {
   "display_name": "Python 3",
   "language": "python",
   "name": "python3"
  },
  "language_info": {
   "name": "python",
   "version": "3.11.9"
  }
 },
 "nbformat": 4,
 "nbformat_minor": 2
}
