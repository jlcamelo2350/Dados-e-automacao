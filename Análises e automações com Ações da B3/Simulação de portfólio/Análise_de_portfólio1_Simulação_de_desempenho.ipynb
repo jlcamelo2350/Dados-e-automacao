{
  "nbformat": 4,
  "nbformat_minor": 0,
  "metadata": {
    "colab": {
      "provenance": []
    },
    "kernelspec": {
      "name": "python3",
      "display_name": "Python 3"
    },
    "language_info": {
      "name": "python"
    }
  },
  "cells": [
    {
      "cell_type": "markdown",
      "source": [
        "## Simulação de Portfólios:\n",
        "\n",
        "#### Vou simular o investimento de 1000 reais em cada um dos portfólios. Essa simulação consistirá em calcular a diferença entre o investimento inicial e o valor que obteríamos ao vender essas ações agora em 2024.\n",
        "\n",
        "#### No código, divide-se igualmente o investimento inicial entre todas as ações do portfólio. Com isso, é possível calcular quantas ações de cada empresa do portfólio poderiam ser compradas com o investimento inicial.\n",
        "\n",
        "####Em seguida, calcula-se o valor final de cada ação no portfólio, multiplicando a quantidade de ações pelo preço final de cada uma ao final do período escolhido. Dessa forma, é possível ter uma ideia do retorno que teria sido obtido se se tivesse investido R$ 1000,00 em cada ação do portfólio no início do período e vendido todas as ações ao final do período considerado."
      ],
      "metadata": {
        "id": "haFRW27iiEjL"
      }
    },
    {
      "cell_type": "markdown",
      "source": [
        "### **Resultados:**\n",
        "#### No período considerado, o desempenho do Portfólio Conservador, 44.29%, foi melhor na média. O Portfólio Arrojado teve o desempenho muito aumentado pelo crescimento do valor de mercado da PetroRio. Desempenho do Portfólio Arrojado com a PetroRio: 223.42%(!). Desempenho sem a PetroRio: 9.27%. Isso ocorreu por conta do mal desempenho de 3 ações do Portfólio: COGN3, BRKM5 e LREN3. Enquanto isso, o desempenho do Portfólio equilibrado foi de por de 32%, o que foi bom.\n",
        "\n",
        "#### Isso evidencia o fato de que as empresas mais sólidas do Brasil continuaram tendo bons resultados no período.\n",
        "\n",
        "### **Destaques:**\n",
        "\n",
        "#### .PetroRio do Portfólio Arrojado-> Crescimento Meteórico! no período considerado\n",
        "#### .WEG dos Portfólios Conservador e Arrojado -> sólida que continua crescendo e crescendo\n",
        "####  .Ultrapar (dona do Ipiranga) do Portfólio Conservador -> Forte Crescimento no período\n",
        "#### .\n",
        "\n",
        "\n",
        "### **Piores Desempenhos:**\n",
        "#### . Cogna Educação (COGN3), Cielo (CIEL3), Braskem(BRKM5), Lojas Renner (LREN3), Ambev (ABEV3) e Fleury (FLRY3) dos Portfólios.\n",
        "\n",
        "\n",
        "### **Piores Desempenhos:**\n",
        "####. Cogna Educação (COGN3), Cielo (CIEL3), Braskem(BRKM5), Lojas Renner (LREN3), Ambev (ABEV3) e Fleury (FLRY3) dos Portfólios.\n",
        "\n",
        "\n",
        "Observações:\n",
        "\n",
        "*   Alguns setores são naturalmente mais lucrativos que outros e isso explica muito o fato de que empresas de determinados setores como Petróleo, Bancos e Alta Tecnologia dominam as listas de empresas mais valiosas. Setores como o Varejo, por exemplo, tendem a não alcançarem esse nível de valor de mercado. No contexto brasileiro, por exemplo, temos o setor bancário sempre muito lucrativo, por vários motivos. Para citar um motivo apenas podemos falar sobre a concentração bancária no Brasil. A consequência é que os papéis dessas empresas dificilmente vão tender a decaírem muito, dado esse ótimo desempenho do setor. Pode-se dizer o mesmo do setor de Petróleo: esse é um mercado que, a partir do momento que a empresa engrenar, ela tende a crescer muito e velozmente. Foi o caso da PetroRio. O difícil mesmo é engrenar nesse setor... que também é bastante concentrado."
      ],
      "metadata": {
        "id": "rqvsQ6Q0xXHp"
      }
    },
    {
      "cell_type": "markdown",
      "source": [],
      "metadata": {
        "id": "PXzqUJUFiOio"
      }
    },
    {
      "cell_type": "code",
      "execution_count": 47,
      "metadata": {
        "id": "kDsFsIzMd_Z3"
      },
      "outputs": [],
      "source": [
        "import yfinance as yf\n",
        "import pandas as pd\n",
        "import matplotlib.pyplot as plt\n",
        "import seaborn as sns\n",
        "import datetime as dt"
      ]
    },
    {
      "cell_type": "code",
      "source": [
        "# Definir o intervalo de datas: de 01/01/2017 até 10/06/2024.\n",
        "start = dt.datetime(2017, 1, 1)\n",
        "end = dt.datetime(2024, 6, 10 )\n",
        "\n",
        "# Lista de tickers das empresas\n",
        "\n",
        "#Portfólio conservador:\n",
        "tickers_c = [\n",
        "    'ITUB4.SA',  # Itaú Unibanco\n",
        "    'ABEV3.SA',  # Ambev\n",
        "    'VALE3.SA',  # Vale\n",
        "    'WEGE3.SA',  # Weg\n",
        "    'BRFS3.SA',  # BRF\n",
        "    'BBSE3.SA',  # Banco do Brasil Seguros\n",
        "    'VBBR3.SA',  #Vibra Energia\n",
        "    'UGPA3.SA'  # Ultrapar\n",
        "             ]\n",
        "\n",
        "#Portfólio Equilibrado:\n",
        "tickers_e = [\n",
        "    'BBAS3.SA',  # Banco do Brasil\n",
        "    'ITUB4.SA',  # Itaú Unibanco\n",
        "    'PETR4.SA',  # Petrobras\n",
        "    'ITSA4.SA',  # Itaúsa\n",
        "    'RENT3.SA',  # Localiza\n",
        "    'EMBR3.SA', # Embraer\n",
        "    'CIEL3.SA',  # Cielo\n",
        "    'SUZB3.SA',  # Suzano\n",
        "    'JBSS3.SA'  #JBS\n",
        "              ]\n",
        "\n",
        "#Portfólio mais Arrojado:\n",
        "tickers_a = [\n",
        "    'COGN3.SA',  # Cogna\n",
        "    'CYRE3.SA',  # Cyrela\n",
        "    'FLRY3.SA',  # Fleury\n",
        "    'PRIO3.SA',  # PetroRio\n",
        "    'BRKM5.SA',   # Braskem\n",
        "    'LREN3.SA',  # Lojas Renner\n",
        "    'RAIL3.SA',  # Rumo SA\n",
        "    'PETR4.SA',  # Petrobras\n",
        "    'WEGE3.SA',  # Weg\n",
        "    ]"
      ],
      "metadata": {
        "id": "RR3F7hhteFRd"
      },
      "execution_count": 48,
      "outputs": []
    },
    {
      "cell_type": "code",
      "source": [
        "def dados_preços(tickers):\n",
        "    df = pd.DataFrame()\n",
        "    for ticker in tickers:\n",
        "        try:\n",
        "            data = yf.download(ticker, start=start, end=end)['Close']\n",
        "            df[ticker.split('.')[0]] = data\n",
        "        except Exception as e:\n",
        "            print(f\"Erro ao baixar dados para {ticker}: {e}\")\n",
        "    df.reset_index(inplace=True)\n",
        "    return df"
      ],
      "metadata": {
        "id": "O7OT3CFhxIh8"
      },
      "execution_count": 49,
      "outputs": []
    },
    {
      "cell_type": "code",
      "source": [
        "# Obter dados de preços\n",
        "df_conservador = dados_preços(tickers_c)"
      ],
      "metadata": {
        "colab": {
          "base_uri": "https://localhost:8080/"
        },
        "id": "2hlL-43mxd3I",
        "outputId": "7bab818b-9f26-40ac-95b3-f0c5ae026820"
      },
      "execution_count": 50,
      "outputs": [
        {
          "output_type": "stream",
          "name": "stderr",
          "text": [
            "[*********************100%%**********************]  1 of 1 completed\n",
            "[*********************100%%**********************]  1 of 1 completed\n",
            "[*********************100%%**********************]  1 of 1 completed\n",
            "[*********************100%%**********************]  1 of 1 completed\n",
            "[*********************100%%**********************]  1 of 1 completed\n",
            "[*********************100%%**********************]  1 of 1 completed\n",
            "[*********************100%%**********************]  1 of 1 completed\n",
            "[*********************100%%**********************]  1 of 1 completed\n"
          ]
        }
      ]
    },
    {
      "cell_type": "code",
      "source": [
        "df_conservador.head()"
      ],
      "metadata": {
        "colab": {
          "base_uri": "https://localhost:8080/",
          "height": 206
        },
        "id": "A-WPwainptx3",
        "outputId": "60e046b3-21f0-4839-fa6f-9c39352d4c4d"
      },
      "execution_count": 51,
      "outputs": [
        {
          "output_type": "execute_result",
          "data": {
            "text/plain": [
              "        Date      ITUB4      ABEV3      VALE3     WEGE3      BRFS3      BBSE3  \\\n",
              "0 2017-01-02  22.353333  16.309999  25.059999  5.807692  45.596249  27.820000   \n",
              "1 2017-01-03  23.299999  16.639999  26.170000  6.100000  47.119297  28.809999   \n",
              "2 2017-01-04  23.400000  16.510000  25.700001  5.953846  46.557674  29.719999   \n",
              "3 2017-01-05  23.719999  16.600000  26.680000  5.938461  46.195950  29.120001   \n",
              "4 2017-01-06  23.799999  16.459999  25.969999  5.988461  43.997047  28.670000   \n",
              "\n",
              "   VBBR3      UGPA3  \n",
              "0    NaN  15.641629  \n",
              "1    NaN  15.895028  \n",
              "2    NaN  15.641629  \n",
              "3    NaN  15.733774  \n",
              "4    NaN  15.664665  "
            ],
            "text/html": [
              "\n",
              "  <div id=\"df-ee9cc7ee-e26f-4720-bb29-3b8a5bedf498\" class=\"colab-df-container\">\n",
              "    <div>\n",
              "<style scoped>\n",
              "    .dataframe tbody tr th:only-of-type {\n",
              "        vertical-align: middle;\n",
              "    }\n",
              "\n",
              "    .dataframe tbody tr th {\n",
              "        vertical-align: top;\n",
              "    }\n",
              "\n",
              "    .dataframe thead th {\n",
              "        text-align: right;\n",
              "    }\n",
              "</style>\n",
              "<table border=\"1\" class=\"dataframe\">\n",
              "  <thead>\n",
              "    <tr style=\"text-align: right;\">\n",
              "      <th></th>\n",
              "      <th>Date</th>\n",
              "      <th>ITUB4</th>\n",
              "      <th>ABEV3</th>\n",
              "      <th>VALE3</th>\n",
              "      <th>WEGE3</th>\n",
              "      <th>BRFS3</th>\n",
              "      <th>BBSE3</th>\n",
              "      <th>VBBR3</th>\n",
              "      <th>UGPA3</th>\n",
              "    </tr>\n",
              "  </thead>\n",
              "  <tbody>\n",
              "    <tr>\n",
              "      <th>0</th>\n",
              "      <td>2017-01-02</td>\n",
              "      <td>22.353333</td>\n",
              "      <td>16.309999</td>\n",
              "      <td>25.059999</td>\n",
              "      <td>5.807692</td>\n",
              "      <td>45.596249</td>\n",
              "      <td>27.820000</td>\n",
              "      <td>NaN</td>\n",
              "      <td>15.641629</td>\n",
              "    </tr>\n",
              "    <tr>\n",
              "      <th>1</th>\n",
              "      <td>2017-01-03</td>\n",
              "      <td>23.299999</td>\n",
              "      <td>16.639999</td>\n",
              "      <td>26.170000</td>\n",
              "      <td>6.100000</td>\n",
              "      <td>47.119297</td>\n",
              "      <td>28.809999</td>\n",
              "      <td>NaN</td>\n",
              "      <td>15.895028</td>\n",
              "    </tr>\n",
              "    <tr>\n",
              "      <th>2</th>\n",
              "      <td>2017-01-04</td>\n",
              "      <td>23.400000</td>\n",
              "      <td>16.510000</td>\n",
              "      <td>25.700001</td>\n",
              "      <td>5.953846</td>\n",
              "      <td>46.557674</td>\n",
              "      <td>29.719999</td>\n",
              "      <td>NaN</td>\n",
              "      <td>15.641629</td>\n",
              "    </tr>\n",
              "    <tr>\n",
              "      <th>3</th>\n",
              "      <td>2017-01-05</td>\n",
              "      <td>23.719999</td>\n",
              "      <td>16.600000</td>\n",
              "      <td>26.680000</td>\n",
              "      <td>5.938461</td>\n",
              "      <td>46.195950</td>\n",
              "      <td>29.120001</td>\n",
              "      <td>NaN</td>\n",
              "      <td>15.733774</td>\n",
              "    </tr>\n",
              "    <tr>\n",
              "      <th>4</th>\n",
              "      <td>2017-01-06</td>\n",
              "      <td>23.799999</td>\n",
              "      <td>16.459999</td>\n",
              "      <td>25.969999</td>\n",
              "      <td>5.988461</td>\n",
              "      <td>43.997047</td>\n",
              "      <td>28.670000</td>\n",
              "      <td>NaN</td>\n",
              "      <td>15.664665</td>\n",
              "    </tr>\n",
              "  </tbody>\n",
              "</table>\n",
              "</div>\n",
              "    <div class=\"colab-df-buttons\">\n",
              "\n",
              "  <div class=\"colab-df-container\">\n",
              "    <button class=\"colab-df-convert\" onclick=\"convertToInteractive('df-ee9cc7ee-e26f-4720-bb29-3b8a5bedf498')\"\n",
              "            title=\"Convert this dataframe to an interactive table.\"\n",
              "            style=\"display:none;\">\n",
              "\n",
              "  <svg xmlns=\"http://www.w3.org/2000/svg\" height=\"24px\" viewBox=\"0 -960 960 960\">\n",
              "    <path d=\"M120-120v-720h720v720H120Zm60-500h600v-160H180v160Zm220 220h160v-160H400v160Zm0 220h160v-160H400v160ZM180-400h160v-160H180v160Zm440 0h160v-160H620v160ZM180-180h160v-160H180v160Zm440 0h160v-160H620v160Z\"/>\n",
              "  </svg>\n",
              "    </button>\n",
              "\n",
              "  <style>\n",
              "    .colab-df-container {\n",
              "      display:flex;\n",
              "      gap: 12px;\n",
              "    }\n",
              "\n",
              "    .colab-df-convert {\n",
              "      background-color: #E8F0FE;\n",
              "      border: none;\n",
              "      border-radius: 50%;\n",
              "      cursor: pointer;\n",
              "      display: none;\n",
              "      fill: #1967D2;\n",
              "      height: 32px;\n",
              "      padding: 0 0 0 0;\n",
              "      width: 32px;\n",
              "    }\n",
              "\n",
              "    .colab-df-convert:hover {\n",
              "      background-color: #E2EBFA;\n",
              "      box-shadow: 0px 1px 2px rgba(60, 64, 67, 0.3), 0px 1px 3px 1px rgba(60, 64, 67, 0.15);\n",
              "      fill: #174EA6;\n",
              "    }\n",
              "\n",
              "    .colab-df-buttons div {\n",
              "      margin-bottom: 4px;\n",
              "    }\n",
              "\n",
              "    [theme=dark] .colab-df-convert {\n",
              "      background-color: #3B4455;\n",
              "      fill: #D2E3FC;\n",
              "    }\n",
              "\n",
              "    [theme=dark] .colab-df-convert:hover {\n",
              "      background-color: #434B5C;\n",
              "      box-shadow: 0px 1px 3px 1px rgba(0, 0, 0, 0.15);\n",
              "      filter: drop-shadow(0px 1px 2px rgba(0, 0, 0, 0.3));\n",
              "      fill: #FFFFFF;\n",
              "    }\n",
              "  </style>\n",
              "\n",
              "    <script>\n",
              "      const buttonEl =\n",
              "        document.querySelector('#df-ee9cc7ee-e26f-4720-bb29-3b8a5bedf498 button.colab-df-convert');\n",
              "      buttonEl.style.display =\n",
              "        google.colab.kernel.accessAllowed ? 'block' : 'none';\n",
              "\n",
              "      async function convertToInteractive(key) {\n",
              "        const element = document.querySelector('#df-ee9cc7ee-e26f-4720-bb29-3b8a5bedf498');\n",
              "        const dataTable =\n",
              "          await google.colab.kernel.invokeFunction('convertToInteractive',\n",
              "                                                    [key], {});\n",
              "        if (!dataTable) return;\n",
              "\n",
              "        const docLinkHtml = 'Like what you see? Visit the ' +\n",
              "          '<a target=\"_blank\" href=https://colab.research.google.com/notebooks/data_table.ipynb>data table notebook</a>'\n",
              "          + ' to learn more about interactive tables.';\n",
              "        element.innerHTML = '';\n",
              "        dataTable['output_type'] = 'display_data';\n",
              "        await google.colab.output.renderOutput(dataTable, element);\n",
              "        const docLink = document.createElement('div');\n",
              "        docLink.innerHTML = docLinkHtml;\n",
              "        element.appendChild(docLink);\n",
              "      }\n",
              "    </script>\n",
              "  </div>\n",
              "\n",
              "\n",
              "<div id=\"df-3e723dcc-5c5e-46c1-80af-2c7c2168cfdd\">\n",
              "  <button class=\"colab-df-quickchart\" onclick=\"quickchart('df-3e723dcc-5c5e-46c1-80af-2c7c2168cfdd')\"\n",
              "            title=\"Suggest charts\"\n",
              "            style=\"display:none;\">\n",
              "\n",
              "<svg xmlns=\"http://www.w3.org/2000/svg\" height=\"24px\"viewBox=\"0 0 24 24\"\n",
              "     width=\"24px\">\n",
              "    <g>\n",
              "        <path d=\"M19 3H5c-1.1 0-2 .9-2 2v14c0 1.1.9 2 2 2h14c1.1 0 2-.9 2-2V5c0-1.1-.9-2-2-2zM9 17H7v-7h2v7zm4 0h-2V7h2v10zm4 0h-2v-4h2v4z\"/>\n",
              "    </g>\n",
              "</svg>\n",
              "  </button>\n",
              "\n",
              "<style>\n",
              "  .colab-df-quickchart {\n",
              "      --bg-color: #E8F0FE;\n",
              "      --fill-color: #1967D2;\n",
              "      --hover-bg-color: #E2EBFA;\n",
              "      --hover-fill-color: #174EA6;\n",
              "      --disabled-fill-color: #AAA;\n",
              "      --disabled-bg-color: #DDD;\n",
              "  }\n",
              "\n",
              "  [theme=dark] .colab-df-quickchart {\n",
              "      --bg-color: #3B4455;\n",
              "      --fill-color: #D2E3FC;\n",
              "      --hover-bg-color: #434B5C;\n",
              "      --hover-fill-color: #FFFFFF;\n",
              "      --disabled-bg-color: #3B4455;\n",
              "      --disabled-fill-color: #666;\n",
              "  }\n",
              "\n",
              "  .colab-df-quickchart {\n",
              "    background-color: var(--bg-color);\n",
              "    border: none;\n",
              "    border-radius: 50%;\n",
              "    cursor: pointer;\n",
              "    display: none;\n",
              "    fill: var(--fill-color);\n",
              "    height: 32px;\n",
              "    padding: 0;\n",
              "    width: 32px;\n",
              "  }\n",
              "\n",
              "  .colab-df-quickchart:hover {\n",
              "    background-color: var(--hover-bg-color);\n",
              "    box-shadow: 0 1px 2px rgba(60, 64, 67, 0.3), 0 1px 3px 1px rgba(60, 64, 67, 0.15);\n",
              "    fill: var(--button-hover-fill-color);\n",
              "  }\n",
              "\n",
              "  .colab-df-quickchart-complete:disabled,\n",
              "  .colab-df-quickchart-complete:disabled:hover {\n",
              "    background-color: var(--disabled-bg-color);\n",
              "    fill: var(--disabled-fill-color);\n",
              "    box-shadow: none;\n",
              "  }\n",
              "\n",
              "  .colab-df-spinner {\n",
              "    border: 2px solid var(--fill-color);\n",
              "    border-color: transparent;\n",
              "    border-bottom-color: var(--fill-color);\n",
              "    animation:\n",
              "      spin 1s steps(1) infinite;\n",
              "  }\n",
              "\n",
              "  @keyframes spin {\n",
              "    0% {\n",
              "      border-color: transparent;\n",
              "      border-bottom-color: var(--fill-color);\n",
              "      border-left-color: var(--fill-color);\n",
              "    }\n",
              "    20% {\n",
              "      border-color: transparent;\n",
              "      border-left-color: var(--fill-color);\n",
              "      border-top-color: var(--fill-color);\n",
              "    }\n",
              "    30% {\n",
              "      border-color: transparent;\n",
              "      border-left-color: var(--fill-color);\n",
              "      border-top-color: var(--fill-color);\n",
              "      border-right-color: var(--fill-color);\n",
              "    }\n",
              "    40% {\n",
              "      border-color: transparent;\n",
              "      border-right-color: var(--fill-color);\n",
              "      border-top-color: var(--fill-color);\n",
              "    }\n",
              "    60% {\n",
              "      border-color: transparent;\n",
              "      border-right-color: var(--fill-color);\n",
              "    }\n",
              "    80% {\n",
              "      border-color: transparent;\n",
              "      border-right-color: var(--fill-color);\n",
              "      border-bottom-color: var(--fill-color);\n",
              "    }\n",
              "    90% {\n",
              "      border-color: transparent;\n",
              "      border-bottom-color: var(--fill-color);\n",
              "    }\n",
              "  }\n",
              "</style>\n",
              "\n",
              "  <script>\n",
              "    async function quickchart(key) {\n",
              "      const quickchartButtonEl =\n",
              "        document.querySelector('#' + key + ' button');\n",
              "      quickchartButtonEl.disabled = true;  // To prevent multiple clicks.\n",
              "      quickchartButtonEl.classList.add('colab-df-spinner');\n",
              "      try {\n",
              "        const charts = await google.colab.kernel.invokeFunction(\n",
              "            'suggestCharts', [key], {});\n",
              "      } catch (error) {\n",
              "        console.error('Error during call to suggestCharts:', error);\n",
              "      }\n",
              "      quickchartButtonEl.classList.remove('colab-df-spinner');\n",
              "      quickchartButtonEl.classList.add('colab-df-quickchart-complete');\n",
              "    }\n",
              "    (() => {\n",
              "      let quickchartButtonEl =\n",
              "        document.querySelector('#df-3e723dcc-5c5e-46c1-80af-2c7c2168cfdd button');\n",
              "      quickchartButtonEl.style.display =\n",
              "        google.colab.kernel.accessAllowed ? 'block' : 'none';\n",
              "    })();\n",
              "  </script>\n",
              "</div>\n",
              "\n",
              "    </div>\n",
              "  </div>\n"
            ],
            "application/vnd.google.colaboratory.intrinsic+json": {
              "type": "dataframe",
              "variable_name": "df_conservador",
              "summary": "{\n  \"name\": \"df_conservador\",\n  \"rows\": 1850,\n  \"fields\": [\n    {\n      \"column\": \"Date\",\n      \"properties\": {\n        \"dtype\": \"date\",\n        \"min\": \"2017-01-02 00:00:00\",\n        \"max\": \"2024-06-07 00:00:00\",\n        \"num_unique_values\": 1850,\n        \"samples\": [\n          \"2017-12-01 00:00:00\",\n          \"2023-04-18 00:00:00\",\n          \"2018-12-07 00:00:00\"\n        ],\n        \"semantic_type\": \"\",\n        \"description\": \"\"\n      }\n    },\n    {\n      \"column\": \"ITUB4\",\n      \"properties\": {\n        \"dtype\": \"number\",\n        \"std\": 4.215754604975442,\n        \"min\": 20.520000457763672,\n        \"max\": 39.689998626708984,\n        \"num_unique_values\": 1215,\n        \"samples\": [\n          22.399999618530273,\n          32.18000030517578,\n          26.066665649414062\n        ],\n        \"semantic_type\": \"\",\n        \"description\": \"\"\n      }\n    },\n    {\n      \"column\": \"ABEV3\",\n      \"properties\": {\n        \"dtype\": \"number\",\n        \"std\": 2.7955178375565146,\n        \"min\": 11.029999732971191,\n        \"max\": 24.270000457763672,\n        \"num_unique_values\": 854,\n        \"samples\": [\n          18.260000228881836,\n          17.600000381469727,\n          21.899999618530273\n        ],\n        \"semantic_type\": \"\",\n        \"description\": \"\"\n      }\n    },\n    {\n      \"column\": \"VALE3\",\n      \"properties\": {\n        \"dtype\": \"number\",\n        \"std\": 21.67259165832316,\n        \"min\": 25.059999465942383,\n        \"max\": 118.72000122070312,\n        \"num_unique_values\": 1579,\n        \"samples\": [\n          68.25,\n          74.80000305175781,\n          89.9000015258789\n        ],\n        \"semantic_type\": \"\",\n        \"description\": \"\"\n      }\n    },\n    {\n      \"column\": \"WEGE3\",\n      \"properties\": {\n        \"dtype\": \"number\",\n        \"std\": 13.03164153790055,\n        \"min\": 5.757691860198975,\n        \"max\": 46.10499954223633,\n        \"num_unique_values\": 1394,\n        \"samples\": [\n          9.029999732971191,\n          26.579999923706055,\n          32.4900016784668\n        ],\n        \"semantic_type\": \"\",\n        \"description\": \"\"\n      }\n    },\n    {\n      \"column\": \"BRFS3\",\n      \"properties\": {\n        \"dtype\": \"number\",\n        \"std\": 9.842182647883012,\n        \"min\": 5.550000190734863,\n        \"max\": 47.11929702758789,\n        \"num_unique_values\": 1374,\n        \"samples\": [\n          23.026580810546875,\n          35.07769775390625,\n          22.236499786376953\n        ],\n        \"semantic_type\": \"\",\n        \"description\": \"\"\n      }\n    },\n    {\n      \"column\": \"BBSE3\",\n      \"properties\": {\n        \"dtype\": \"number\",\n        \"std\": 4.022484575943292,\n        \"min\": 18.399999618530273,\n        \"max\": 38.31999969482422,\n        \"num_unique_values\": 1066,\n        \"samples\": [\n          28.850000381469727,\n          21.8799991607666,\n          33.290000915527344\n        ],\n        \"semantic_type\": \"\",\n        \"description\": \"\"\n      }\n    },\n    {\n      \"column\": \"VBBR3\",\n      \"properties\": {\n        \"dtype\": \"number\",\n        \"std\": 3.8965214525408123,\n        \"min\": 12.329999923706055,\n        \"max\": 31.09000015258789,\n        \"num_unique_values\": 922,\n        \"samples\": [\n          27.700000762939453,\n          14.350000381469727,\n          27.75\n        ],\n        \"semantic_type\": \"\",\n        \"description\": \"\"\n      }\n    },\n    {\n      \"column\": \"UGPA3\",\n      \"properties\": {\n        \"dtype\": \"number\",\n        \"std\": 5.061382107123948,\n        \"min\": 4.925155162811279,\n        \"max\": 31.079999923706055,\n        \"num_unique_values\": 1370,\n        \"samples\": [\n          10.916889190673828,\n          13.350000381469727,\n          5.671529769897461\n        ],\n        \"semantic_type\": \"\",\n        \"description\": \"\"\n      }\n    }\n  ]\n}"
            }
          },
          "metadata": {},
          "execution_count": 51
        }
      ]
    },
    {
      "cell_type": "markdown",
      "source": [
        "### Simulando o retorno do portfólio conservador:"
      ],
      "metadata": {
        "id": "h2EpkNe9hRY9"
      }
    },
    {
      "cell_type": "code",
      "source": [
        "# Função para calcular o valor final de cada ação do portfólio\n",
        "def calcular_valor_acoes(df, investimento_inicial=1000, data_inicio='2019-01-01', data_fim='2024-06-10'):\n",
        "\n",
        "    # Define a coluna de datas como índice\n",
        "    df.set_index('Date', inplace=True)\n",
        "\n",
        "    # Filtra os dados para o período desejado\n",
        "    df = df.loc[data_inicio:data_fim]\n",
        "\n",
        "    # Preço inicial de cada ação (no dia de início do investimento)\n",
        "    preco_inicial = df.iloc[0]\n",
        "\n",
        "    # Preço final de cada ação (no dia de final do investimento)\n",
        "    preco_final = df.iloc[-1]\n",
        "\n",
        "    # Divide o investimento inicial igualmente entre todas as ações\n",
        "    alocacao = investimento_inicial / len(df.columns)\n",
        "\n",
        "    # Calcula a quantidade de ações compradas de cada empresa com a alocação inicial\n",
        "    investimento_inicial_por_acao = alocacao / preco_inicial\n",
        "\n",
        "    # Calcula o valor final de cada ação no portfólio\n",
        "    valor_final_por_acao = investimento_inicial_por_acao * preco_final\n",
        "\n",
        "    return valor_final_por_acao"
      ],
      "metadata": {
        "id": "RQSoK97Men0N"
      },
      "execution_count": 52,
      "outputs": []
    },
    {
      "cell_type": "code",
      "source": [
        "# Calcular o valor final de cada ação no portfólio conservador\n",
        "valor_final_acoes_conservador = calcular_valor_acoes(df_conservador)"
      ],
      "metadata": {
        "id": "qtA-6pCgisr3"
      },
      "execution_count": 53,
      "outputs": []
    },
    {
      "cell_type": "code",
      "source": [
        "# Exibir o valor final de cada ação\n",
        "print(\"Valor final de cada ação no portfólio conservador:\")\n",
        "for acao, valor in valor_final_acoes_conservador.items():\n",
        "    print(f\"{acao}: R$ {valor:.2f}\")\n",
        "\n",
        "# Calcular o valor total do portfólio conservador\n",
        "valor_total_conservador = valor_final_acoes_conservador.sum()\n",
        "print(f\"\\nValor total do portfólio conservador: R$ {valor_total_conservador:.2f}\")\n",
        "\n",
        "retorno_percentC = (valor_total_conservador - 1000) / 1000 * 100\n",
        "print(f\"Retorno do portfólio conservador: {retorno_percentC:.2f}%\")"
      ],
      "metadata": {
        "colab": {
          "base_uri": "https://localhost:8080/"
        },
        "id": "aeFfnU41k5uW",
        "outputId": "b5296094-99dd-4ee2-de1f-178eacb69f89"
      },
      "execution_count": 54,
      "outputs": [
        {
          "output_type": "stream",
          "name": "stdout",
          "text": [
            "Valor final de cada ação no portfólio conservador:\n",
            "ITUB4: R$ 106.25\n",
            "ABEV3: R$ 89.47\n",
            "VALE3: R$ 147.80\n",
            "WEGE3: R$ 526.28\n",
            "BRFS3: R$ 107.55\n",
            "BBSE3: R$ 144.29\n",
            "VBBR3: R$ 100.00\n",
            "UGPA3: R$ 221.28\n",
            "\n",
            "Valor total do portfólio conservador: R$ 1442.93\n",
            "Retorno do portfólio conservador: 44.29%\n"
          ]
        }
      ]
    },
    {
      "cell_type": "markdown",
      "source": [
        "\n",
        "\n",
        "---\n",
        "\n"
      ],
      "metadata": {
        "id": "qyHz9xRfyYri"
      }
    },
    {
      "cell_type": "markdown",
      "source": [
        "### Simulando para o Portfólio Equilibrado:"
      ],
      "metadata": {
        "id": "pJ1mHy4RCWkw"
      }
    },
    {
      "cell_type": "code",
      "source": [
        "df_equilibrado = dados_preços(tickers_e)"
      ],
      "metadata": {
        "colab": {
          "base_uri": "https://localhost:8080/"
        },
        "id": "7d7y9vhwyAvI",
        "outputId": "b8a776da-02c3-4d6f-df30-c10b041c80ec"
      },
      "execution_count": 55,
      "outputs": [
        {
          "output_type": "stream",
          "name": "stderr",
          "text": [
            "[*********************100%%**********************]  1 of 1 completed\n",
            "[*********************100%%**********************]  1 of 1 completed\n",
            "[*********************100%%**********************]  1 of 1 completed\n",
            "[*********************100%%**********************]  1 of 1 completed\n",
            "[*********************100%%**********************]  1 of 1 completed\n",
            "[*********************100%%**********************]  1 of 1 completed\n",
            "[*********************100%%**********************]  1 of 1 completed\n",
            "[*********************100%%**********************]  1 of 1 completed\n",
            "[*********************100%%**********************]  1 of 1 completed\n"
          ]
        }
      ]
    },
    {
      "cell_type": "code",
      "source": [
        "# Calcular o valor final de cada ação no portfólio conservador\n",
        "valor_final_acoes_eq = calcular_valor_acoes(df_equilibrado)"
      ],
      "metadata": {
        "id": "zuCOENAcnf4S"
      },
      "execution_count": 56,
      "outputs": []
    },
    {
      "cell_type": "code",
      "source": [
        "# Exibir o valor final de cada ação\n",
        "print(\"Valor final de cada ação no portfólio equilibrado:\")\n",
        "for acao, valor in valor_final_acoes_eq.items():\n",
        "    print(f\"{acao}: R$ {valor:.2f}\")\n",
        "\n",
        "# Calcular o valor total do portfólio conservador\n",
        "valor_total_eq = valor_final_acoes_eq.sum()\n",
        "print(f\"\\nValor total do portfólio equilibrado: R$ {valor_total_eq:.2f}\")\n",
        "\n",
        "retorno_percentE = (valor_total_eq - 1000) / 1000 * 100\n",
        "print(f\"Retorno do portfólio equilibrado: {retorno_percentE:.2f}%\")"
      ],
      "metadata": {
        "colab": {
          "base_uri": "https://localhost:8080/"
        },
        "id": "utqvdaT-nwCy",
        "outputId": "d323492b-ca16-4f4c-e222-0b538acb42bf"
      },
      "execution_count": 57,
      "outputs": [
        {
          "output_type": "stream",
          "name": "stdout",
          "text": [
            "Valor final de cada ação no portfólio equilibrado:\n",
            "BBAS3: R$ 124.28\n",
            "ITUB4: R$ 94.44\n",
            "PETR4: R$ 170.59\n",
            "ITSA4: R$ 103.76\n",
            "RENT3: R$ 162.33\n",
            "EMBR3: R$ 198.08\n",
            "CIEL3: R$ 65.07\n",
            "SUZB3: R$ 140.04\n",
            "JBSS3: R$ 269.84\n",
            "\n",
            "Valor total do portfólio equilibrado: R$ 1328.44\n",
            "Retorno do portfólio equilibrado: 32.84%\n"
          ]
        }
      ]
    },
    {
      "cell_type": "markdown",
      "source": [
        "\n",
        "\n",
        "---\n",
        "\n",
        "\n"
      ],
      "metadata": {
        "id": "dfBqg83Sn27j"
      }
    },
    {
      "cell_type": "markdown",
      "source": [
        "### Simulando para o Portfólio Arrojado"
      ],
      "metadata": {
        "id": "sCT5dPtpCZbq"
      }
    },
    {
      "cell_type": "code",
      "source": [
        "df_arrojado = dados_preços(tickers_a)"
      ],
      "metadata": {
        "colab": {
          "base_uri": "https://localhost:8080/"
        },
        "id": "icBSxqbjnwQE",
        "outputId": "6bf20c30-6e34-43fa-9fdd-f56ec93129bc"
      },
      "execution_count": 36,
      "outputs": [
        {
          "output_type": "stream",
          "name": "stderr",
          "text": [
            "[*********************100%%**********************]  1 of 1 completed\n",
            "[*********************100%%**********************]  1 of 1 completed\n",
            "[*********************100%%**********************]  1 of 1 completed\n",
            "[*********************100%%**********************]  1 of 1 completed\n",
            "[*********************100%%**********************]  1 of 1 completed\n",
            "[*********************100%%**********************]  1 of 1 completed\n",
            "[*********************100%%**********************]  1 of 1 completed\n",
            "[*********************100%%**********************]  1 of 1 completed\n",
            "[*********************100%%**********************]  1 of 1 completed\n"
          ]
        }
      ]
    },
    {
      "cell_type": "code",
      "source": [
        "df_arrojado.head()"
      ],
      "metadata": {
        "colab": {
          "base_uri": "https://localhost:8080/",
          "height": 206
        },
        "id": "wBpQkIbbp89k",
        "outputId": "33cd243f-a495-4ed1-8734-49f93fbac17f"
      },
      "execution_count": 37,
      "outputs": [
        {
          "output_type": "execute_result",
          "data": {
            "text/plain": [
              "        Date  COGN3  CYRE3      FLRY3   PRIO3      BRKM5      LREN3  RAIL3  \\\n",
              "0 2017-01-02  13.30  10.28  16.360834  0.4660  34.000000  17.247889   6.11   \n",
              "1 2017-01-03  13.96  11.15  16.275967  0.5278  35.939999  17.777103   6.18   \n",
              "2 2017-01-04  13.88  11.56  16.639015  0.5252  35.330002  17.620575   6.18   \n",
              "3 2017-01-05  13.70  11.41  16.973778  0.5400  35.750000  17.456593   6.19   \n",
              "4 2017-01-06  13.60  11.34  16.973778  0.5090  35.049999  17.255342   6.35   \n",
              "\n",
              "   PETR4     WEGE3  \n",
              "0  14.66  5.807692  \n",
              "1  15.50  6.100000  \n",
              "2  15.50  5.953846  \n",
              "3  15.75  5.938461  \n",
              "4  15.66  5.988461  "
            ],
            "text/html": [
              "\n",
              "  <div id=\"df-8387457d-d118-43ce-9c62-012e197f8610\" class=\"colab-df-container\">\n",
              "    <div>\n",
              "<style scoped>\n",
              "    .dataframe tbody tr th:only-of-type {\n",
              "        vertical-align: middle;\n",
              "    }\n",
              "\n",
              "    .dataframe tbody tr th {\n",
              "        vertical-align: top;\n",
              "    }\n",
              "\n",
              "    .dataframe thead th {\n",
              "        text-align: right;\n",
              "    }\n",
              "</style>\n",
              "<table border=\"1\" class=\"dataframe\">\n",
              "  <thead>\n",
              "    <tr style=\"text-align: right;\">\n",
              "      <th></th>\n",
              "      <th>Date</th>\n",
              "      <th>COGN3</th>\n",
              "      <th>CYRE3</th>\n",
              "      <th>FLRY3</th>\n",
              "      <th>PRIO3</th>\n",
              "      <th>BRKM5</th>\n",
              "      <th>LREN3</th>\n",
              "      <th>RAIL3</th>\n",
              "      <th>PETR4</th>\n",
              "      <th>WEGE3</th>\n",
              "    </tr>\n",
              "  </thead>\n",
              "  <tbody>\n",
              "    <tr>\n",
              "      <th>0</th>\n",
              "      <td>2017-01-02</td>\n",
              "      <td>13.30</td>\n",
              "      <td>10.28</td>\n",
              "      <td>16.360834</td>\n",
              "      <td>0.4660</td>\n",
              "      <td>34.000000</td>\n",
              "      <td>17.247889</td>\n",
              "      <td>6.11</td>\n",
              "      <td>14.66</td>\n",
              "      <td>5.807692</td>\n",
              "    </tr>\n",
              "    <tr>\n",
              "      <th>1</th>\n",
              "      <td>2017-01-03</td>\n",
              "      <td>13.96</td>\n",
              "      <td>11.15</td>\n",
              "      <td>16.275967</td>\n",
              "      <td>0.5278</td>\n",
              "      <td>35.939999</td>\n",
              "      <td>17.777103</td>\n",
              "      <td>6.18</td>\n",
              "      <td>15.50</td>\n",
              "      <td>6.100000</td>\n",
              "    </tr>\n",
              "    <tr>\n",
              "      <th>2</th>\n",
              "      <td>2017-01-04</td>\n",
              "      <td>13.88</td>\n",
              "      <td>11.56</td>\n",
              "      <td>16.639015</td>\n",
              "      <td>0.5252</td>\n",
              "      <td>35.330002</td>\n",
              "      <td>17.620575</td>\n",
              "      <td>6.18</td>\n",
              "      <td>15.50</td>\n",
              "      <td>5.953846</td>\n",
              "    </tr>\n",
              "    <tr>\n",
              "      <th>3</th>\n",
              "      <td>2017-01-05</td>\n",
              "      <td>13.70</td>\n",
              "      <td>11.41</td>\n",
              "      <td>16.973778</td>\n",
              "      <td>0.5400</td>\n",
              "      <td>35.750000</td>\n",
              "      <td>17.456593</td>\n",
              "      <td>6.19</td>\n",
              "      <td>15.75</td>\n",
              "      <td>5.938461</td>\n",
              "    </tr>\n",
              "    <tr>\n",
              "      <th>4</th>\n",
              "      <td>2017-01-06</td>\n",
              "      <td>13.60</td>\n",
              "      <td>11.34</td>\n",
              "      <td>16.973778</td>\n",
              "      <td>0.5090</td>\n",
              "      <td>35.049999</td>\n",
              "      <td>17.255342</td>\n",
              "      <td>6.35</td>\n",
              "      <td>15.66</td>\n",
              "      <td>5.988461</td>\n",
              "    </tr>\n",
              "  </tbody>\n",
              "</table>\n",
              "</div>\n",
              "    <div class=\"colab-df-buttons\">\n",
              "\n",
              "  <div class=\"colab-df-container\">\n",
              "    <button class=\"colab-df-convert\" onclick=\"convertToInteractive('df-8387457d-d118-43ce-9c62-012e197f8610')\"\n",
              "            title=\"Convert this dataframe to an interactive table.\"\n",
              "            style=\"display:none;\">\n",
              "\n",
              "  <svg xmlns=\"http://www.w3.org/2000/svg\" height=\"24px\" viewBox=\"0 -960 960 960\">\n",
              "    <path d=\"M120-120v-720h720v720H120Zm60-500h600v-160H180v160Zm220 220h160v-160H400v160Zm0 220h160v-160H400v160ZM180-400h160v-160H180v160Zm440 0h160v-160H620v160ZM180-180h160v-160H180v160Zm440 0h160v-160H620v160Z\"/>\n",
              "  </svg>\n",
              "    </button>\n",
              "\n",
              "  <style>\n",
              "    .colab-df-container {\n",
              "      display:flex;\n",
              "      gap: 12px;\n",
              "    }\n",
              "\n",
              "    .colab-df-convert {\n",
              "      background-color: #E8F0FE;\n",
              "      border: none;\n",
              "      border-radius: 50%;\n",
              "      cursor: pointer;\n",
              "      display: none;\n",
              "      fill: #1967D2;\n",
              "      height: 32px;\n",
              "      padding: 0 0 0 0;\n",
              "      width: 32px;\n",
              "    }\n",
              "\n",
              "    .colab-df-convert:hover {\n",
              "      background-color: #E2EBFA;\n",
              "      box-shadow: 0px 1px 2px rgba(60, 64, 67, 0.3), 0px 1px 3px 1px rgba(60, 64, 67, 0.15);\n",
              "      fill: #174EA6;\n",
              "    }\n",
              "\n",
              "    .colab-df-buttons div {\n",
              "      margin-bottom: 4px;\n",
              "    }\n",
              "\n",
              "    [theme=dark] .colab-df-convert {\n",
              "      background-color: #3B4455;\n",
              "      fill: #D2E3FC;\n",
              "    }\n",
              "\n",
              "    [theme=dark] .colab-df-convert:hover {\n",
              "      background-color: #434B5C;\n",
              "      box-shadow: 0px 1px 3px 1px rgba(0, 0, 0, 0.15);\n",
              "      filter: drop-shadow(0px 1px 2px rgba(0, 0, 0, 0.3));\n",
              "      fill: #FFFFFF;\n",
              "    }\n",
              "  </style>\n",
              "\n",
              "    <script>\n",
              "      const buttonEl =\n",
              "        document.querySelector('#df-8387457d-d118-43ce-9c62-012e197f8610 button.colab-df-convert');\n",
              "      buttonEl.style.display =\n",
              "        google.colab.kernel.accessAllowed ? 'block' : 'none';\n",
              "\n",
              "      async function convertToInteractive(key) {\n",
              "        const element = document.querySelector('#df-8387457d-d118-43ce-9c62-012e197f8610');\n",
              "        const dataTable =\n",
              "          await google.colab.kernel.invokeFunction('convertToInteractive',\n",
              "                                                    [key], {});\n",
              "        if (!dataTable) return;\n",
              "\n",
              "        const docLinkHtml = 'Like what you see? Visit the ' +\n",
              "          '<a target=\"_blank\" href=https://colab.research.google.com/notebooks/data_table.ipynb>data table notebook</a>'\n",
              "          + ' to learn more about interactive tables.';\n",
              "        element.innerHTML = '';\n",
              "        dataTable['output_type'] = 'display_data';\n",
              "        await google.colab.output.renderOutput(dataTable, element);\n",
              "        const docLink = document.createElement('div');\n",
              "        docLink.innerHTML = docLinkHtml;\n",
              "        element.appendChild(docLink);\n",
              "      }\n",
              "    </script>\n",
              "  </div>\n",
              "\n",
              "\n",
              "<div id=\"df-3338bfd8-954a-4afc-b3db-52378a66cdc3\">\n",
              "  <button class=\"colab-df-quickchart\" onclick=\"quickchart('df-3338bfd8-954a-4afc-b3db-52378a66cdc3')\"\n",
              "            title=\"Suggest charts\"\n",
              "            style=\"display:none;\">\n",
              "\n",
              "<svg xmlns=\"http://www.w3.org/2000/svg\" height=\"24px\"viewBox=\"0 0 24 24\"\n",
              "     width=\"24px\">\n",
              "    <g>\n",
              "        <path d=\"M19 3H5c-1.1 0-2 .9-2 2v14c0 1.1.9 2 2 2h14c1.1 0 2-.9 2-2V5c0-1.1-.9-2-2-2zM9 17H7v-7h2v7zm4 0h-2V7h2v10zm4 0h-2v-4h2v4z\"/>\n",
              "    </g>\n",
              "</svg>\n",
              "  </button>\n",
              "\n",
              "<style>\n",
              "  .colab-df-quickchart {\n",
              "      --bg-color: #E8F0FE;\n",
              "      --fill-color: #1967D2;\n",
              "      --hover-bg-color: #E2EBFA;\n",
              "      --hover-fill-color: #174EA6;\n",
              "      --disabled-fill-color: #AAA;\n",
              "      --disabled-bg-color: #DDD;\n",
              "  }\n",
              "\n",
              "  [theme=dark] .colab-df-quickchart {\n",
              "      --bg-color: #3B4455;\n",
              "      --fill-color: #D2E3FC;\n",
              "      --hover-bg-color: #434B5C;\n",
              "      --hover-fill-color: #FFFFFF;\n",
              "      --disabled-bg-color: #3B4455;\n",
              "      --disabled-fill-color: #666;\n",
              "  }\n",
              "\n",
              "  .colab-df-quickchart {\n",
              "    background-color: var(--bg-color);\n",
              "    border: none;\n",
              "    border-radius: 50%;\n",
              "    cursor: pointer;\n",
              "    display: none;\n",
              "    fill: var(--fill-color);\n",
              "    height: 32px;\n",
              "    padding: 0;\n",
              "    width: 32px;\n",
              "  }\n",
              "\n",
              "  .colab-df-quickchart:hover {\n",
              "    background-color: var(--hover-bg-color);\n",
              "    box-shadow: 0 1px 2px rgba(60, 64, 67, 0.3), 0 1px 3px 1px rgba(60, 64, 67, 0.15);\n",
              "    fill: var(--button-hover-fill-color);\n",
              "  }\n",
              "\n",
              "  .colab-df-quickchart-complete:disabled,\n",
              "  .colab-df-quickchart-complete:disabled:hover {\n",
              "    background-color: var(--disabled-bg-color);\n",
              "    fill: var(--disabled-fill-color);\n",
              "    box-shadow: none;\n",
              "  }\n",
              "\n",
              "  .colab-df-spinner {\n",
              "    border: 2px solid var(--fill-color);\n",
              "    border-color: transparent;\n",
              "    border-bottom-color: var(--fill-color);\n",
              "    animation:\n",
              "      spin 1s steps(1) infinite;\n",
              "  }\n",
              "\n",
              "  @keyframes spin {\n",
              "    0% {\n",
              "      border-color: transparent;\n",
              "      border-bottom-color: var(--fill-color);\n",
              "      border-left-color: var(--fill-color);\n",
              "    }\n",
              "    20% {\n",
              "      border-color: transparent;\n",
              "      border-left-color: var(--fill-color);\n",
              "      border-top-color: var(--fill-color);\n",
              "    }\n",
              "    30% {\n",
              "      border-color: transparent;\n",
              "      border-left-color: var(--fill-color);\n",
              "      border-top-color: var(--fill-color);\n",
              "      border-right-color: var(--fill-color);\n",
              "    }\n",
              "    40% {\n",
              "      border-color: transparent;\n",
              "      border-right-color: var(--fill-color);\n",
              "      border-top-color: var(--fill-color);\n",
              "    }\n",
              "    60% {\n",
              "      border-color: transparent;\n",
              "      border-right-color: var(--fill-color);\n",
              "    }\n",
              "    80% {\n",
              "      border-color: transparent;\n",
              "      border-right-color: var(--fill-color);\n",
              "      border-bottom-color: var(--fill-color);\n",
              "    }\n",
              "    90% {\n",
              "      border-color: transparent;\n",
              "      border-bottom-color: var(--fill-color);\n",
              "    }\n",
              "  }\n",
              "</style>\n",
              "\n",
              "  <script>\n",
              "    async function quickchart(key) {\n",
              "      const quickchartButtonEl =\n",
              "        document.querySelector('#' + key + ' button');\n",
              "      quickchartButtonEl.disabled = true;  // To prevent multiple clicks.\n",
              "      quickchartButtonEl.classList.add('colab-df-spinner');\n",
              "      try {\n",
              "        const charts = await google.colab.kernel.invokeFunction(\n",
              "            'suggestCharts', [key], {});\n",
              "      } catch (error) {\n",
              "        console.error('Error during call to suggestCharts:', error);\n",
              "      }\n",
              "      quickchartButtonEl.classList.remove('colab-df-spinner');\n",
              "      quickchartButtonEl.classList.add('colab-df-quickchart-complete');\n",
              "    }\n",
              "    (() => {\n",
              "      let quickchartButtonEl =\n",
              "        document.querySelector('#df-3338bfd8-954a-4afc-b3db-52378a66cdc3 button');\n",
              "      quickchartButtonEl.style.display =\n",
              "        google.colab.kernel.accessAllowed ? 'block' : 'none';\n",
              "    })();\n",
              "  </script>\n",
              "</div>\n",
              "\n",
              "    </div>\n",
              "  </div>\n"
            ],
            "application/vnd.google.colaboratory.intrinsic+json": {
              "type": "dataframe",
              "variable_name": "df_arrojado",
              "summary": "{\n  \"name\": \"df_arrojado\",\n  \"rows\": 1850,\n  \"fields\": [\n    {\n      \"column\": \"Date\",\n      \"properties\": {\n        \"dtype\": \"date\",\n        \"min\": \"2017-01-02 00:00:00\",\n        \"max\": \"2024-06-07 00:00:00\",\n        \"num_unique_values\": 1850,\n        \"samples\": [\n          \"2017-12-01 00:00:00\",\n          \"2023-04-18 00:00:00\",\n          \"2018-12-07 00:00:00\"\n        ],\n        \"semantic_type\": \"\",\n        \"description\": \"\"\n      }\n    },\n    {\n      \"column\": \"COGN3\",\n      \"properties\": {\n        \"dtype\": \"number\",\n        \"std\": 5.173009154581341,\n        \"min\": 1.7599999904632568,\n        \"max\": 21.229999542236328,\n        \"num_unique_values\": 858,\n        \"samples\": [\n          3.0299999713897705,\n          4.25,\n          17.75\n        ],\n        \"semantic_type\": \"\",\n        \"description\": \"\"\n      }\n    },\n    {\n      \"column\": \"CYRE3\",\n      \"properties\": {\n        \"dtype\": \"number\",\n        \"std\": 5.5490499239390525,\n        \"min\": 10.020000457763672,\n        \"max\": 34.380001068115234,\n        \"num_unique_values\": 1118,\n        \"samples\": [\n          23.40999984741211,\n          11.359999656677246,\n          26.0\n        ],\n        \"semantic_type\": \"\",\n        \"description\": \"\"\n      }\n    },\n    {\n      \"column\": \"FLRY3\",\n      \"properties\": {\n        \"dtype\": \"number\",\n        \"std\": 4.706266232432475,\n        \"min\": 12.909500122070312,\n        \"max\": 31.590085983276367,\n        \"num_unique_values\": 1217,\n        \"samples\": [\n          26.9411563873291,\n          23.650129318237305,\n          19.142648696899414\n        ],\n        \"semantic_type\": \"\",\n        \"description\": \"\"\n      }\n    },\n    {\n      \"column\": \"PRIO3\",\n      \"properties\": {\n        \"dtype\": \"number\",\n        \"std\": 15.981566057520329,\n        \"min\": 0.4659999907016754,\n        \"max\": 50.86000061035156,\n        \"num_unique_values\": 1601,\n        \"samples\": [\n          3.4860000610351562,\n          1.7001999616622925,\n          0.9581999778747559\n        ],\n        \"semantic_type\": \"\",\n        \"description\": \"\"\n      }\n    },\n    {\n      \"column\": \"BRKM5\",\n      \"properties\": {\n        \"dtype\": \"number\",\n        \"std\": 13.030136440881718,\n        \"min\": 10.069999694824219,\n        \"max\": 70.16999816894531,\n        \"num_unique_values\": 1448,\n        \"samples\": [\n          52.04999923706055,\n          55.0,\n          29.709999084472656\n        ],\n        \"semantic_type\": \"\",\n        \"description\": \"\"\n      }\n    },\n    {\n      \"column\": \"LREN3\",\n      \"properties\": {\n        \"dtype\": \"number\",\n        \"std\": 9.572834944601713,\n        \"min\": 11.9399995803833,\n        \"max\": 54.89860153198242,\n        \"num_unique_values\": 1551,\n        \"samples\": [\n          17.290000915527344,\n          51.97644805908203,\n          24.982606887817383\n        ],\n        \"semantic_type\": \"\",\n        \"description\": \"\"\n      }\n    },\n    {\n      \"column\": \"RAIL3\",\n      \"properties\": {\n        \"dtype\": \"number\",\n        \"std\": 4.42054221879484,\n        \"min\": 6.110000133514404,\n        \"max\": 26.8700008392334,\n        \"num_unique_values\": 1008,\n        \"samples\": [\n          20.559999465942383,\n          22.84000015258789,\n          18.6200008392334\n        ],\n        \"semantic_type\": \"\",\n        \"description\": \"\"\n      }\n    },\n    {\n      \"column\": \"PETR4\",\n      \"properties\": {\n        \"dtype\": \"number\",\n        \"std\": 6.915973540368376,\n        \"min\": 11.289999961853027,\n        \"max\": 42.900001525878906,\n        \"num_unique_values\": 1250,\n        \"samples\": [\n          21.780000686645508,\n          34.63999938964844,\n          21.489999771118164\n        ],\n        \"semantic_type\": \"\",\n        \"description\": \"\"\n      }\n    },\n    {\n      \"column\": \"WEGE3\",\n      \"properties\": {\n        \"dtype\": \"number\",\n        \"std\": 13.03164153790055,\n        \"min\": 5.757691860198975,\n        \"max\": 46.10499954223633,\n        \"num_unique_values\": 1394,\n        \"samples\": [\n          9.029999732971191,\n          26.579999923706055,\n          32.4900016784668\n        ],\n        \"semantic_type\": \"\",\n        \"description\": \"\"\n      }\n    }\n  ]\n}"
            }
          },
          "metadata": {},
          "execution_count": 37
        }
      ]
    },
    {
      "cell_type": "code",
      "source": [
        "# Calcular o valor final de cada ação no portfólio conservador\n",
        "valor_final_acoes_arrojado = calcular_valor_acoes(df_arrojado)"
      ],
      "metadata": {
        "id": "nakOpmVPeoE4"
      },
      "execution_count": 38,
      "outputs": []
    },
    {
      "cell_type": "code",
      "source": [
        "# Exibir o valor final de cada ação\n",
        "print(\"Valor final de cada ação no portfólio arrojado:\")\n",
        "for acao, valor in valor_final_acoes_arrojado.items():\n",
        "    print(f\"{acao}: R$ {valor:.2f}\")\n",
        "\n",
        "# Calcular o valor total do portfólio arrojado\n",
        "valor_total_arrojado = valor_final_acoes_arrojado.sum()\n",
        "print(f\"\\nValor total do portfólio arrojado: R$ {valor_total_arrojado:.2f}\")\n",
        "\n",
        "retorno_percentA = (valor_total_arrojado - 1000) / 1000 * 100\n",
        "print(f\"Retorno do portfólio equilibrado: {retorno_percentA:.2f}%\")"
      ],
      "metadata": {
        "colab": {
          "base_uri": "https://localhost:8080/"
        },
        "id": "9fSpJUEEpD2o",
        "outputId": "6453db7e-1416-4140-db6d-2ab8f09f0a80"
      },
      "execution_count": 39,
      "outputs": [
        {
          "output_type": "stream",
          "name": "stdout",
          "text": [
            "Valor final de cada ação no portfólio arrojado:\n",
            "COGN3: R$ 21.62\n",
            "CYRE3: R$ 137.02\n",
            "FLRY3: R$ 84.32\n",
            "PRIO3: R$ 2141.54\n",
            "BRKM5: R$ 40.55\n",
            "LREN3: R$ 40.98\n",
            "RAIL3: R$ 129.79\n",
            "PETR4: R$ 170.59\n",
            "WEGE3: R$ 467.80\n",
            "\n",
            "Valor total do portfólio arrojado: R$ 3234.22\n",
            "Retorno do portfólio equilibrado: 223.42%\n"
          ]
        }
      ]
    },
    {
      "cell_type": "markdown",
      "source": [
        "### **Veja que o valor das ações da PetroRio (PRIO3). O crescimento foi absurdo no período considerado, o que fez com que o retorno desse portfólio explodisse.**\n",
        "### Na próxima seção, vou verificar os retornos retirando esse outlier da amostra"
      ],
      "metadata": {
        "id": "h5nRPWen1c-l"
      }
    },
    {
      "cell_type": "markdown",
      "source": [],
      "metadata": {
        "id": "XGpV_WHviOSI"
      }
    },
    {
      "cell_type": "markdown",
      "source": [
        "#### Por agora vou mostrar como o desempenho individual da empresa foi muito absurda e \"viesou\" o desempenho do portfólio"
      ],
      "metadata": {
        "id": "pbvl5npA7M8X"
      }
    },
    {
      "cell_type": "code",
      "source": [
        "# Colocar a coluna índice, Date, como sendo coluna integrante e não apenas coluna índice do dataframe df_arrojado\n",
        "df_arrojado.reset_index(inplace=True)"
      ],
      "metadata": {
        "id": "AcesxF6Q6mOq"
      },
      "execution_count": 40,
      "outputs": []
    },
    {
      "cell_type": "code",
      "source": [
        "# Plotar o gráfico de linha\n",
        "plt.plot(df_arrojado['Date'], df_arrojado['PRIO3'], color = 'navy')\n",
        "plt.xlabel('Data')\n",
        "plt.ylabel('Preço')\n",
        "plt.title('Preço da Ação da PetroRio ao longo do tempo')\n",
        "plt.show()"
      ],
      "metadata": {
        "colab": {
          "base_uri": "https://localhost:8080/",
          "height": 472
        },
        "id": "toj_PVEP6yrH",
        "outputId": "3789e8fa-a0ca-4539-bd97-c0cd783d5d6e"
      },
      "execution_count": 41,
      "outputs": [
        {
          "output_type": "display_data",
          "data": {
            "text/plain": [
              "<Figure size 640x480 with 1 Axes>"
            ],
            "image/png": "[encoded data removed]"
          },
          "metadata": {}
        }
      ]
    },
    {
      "cell_type": "markdown",
      "source": [
        "#### Veja que o crescimento é exponencial!\n"
      ],
      "metadata": {
        "id": "Cek4zf7m7qnL"
      }
    },
    {
      "cell_type": "markdown",
      "source": [
        "#### Veja o preço dela em 2019 e o mais atual:"
      ],
      "metadata": {
        "id": "pA2dpY9V66ap"
      }
    },
    {
      "cell_type": "code",
      "source": [
        "# Localizar o preço da ação PRIO3 no dia '2019-01-01'\n",
        "preco_compra = df_arrojado.loc[df_arrojado['Date'] == '2019-01-02', 'PRIO3'].values\n",
        "\n",
        "\n",
        "preco_atual = df_arrojado.loc[df_arrojado['Date'] == '2024-04-02', 'PRIO3'].values\n",
        "\n",
        "\n",
        "print(f\"Preço da ação PRIO3 em 2019-01-01: R${preco_compra[0]:.2f}\")\n",
        "print(f\"Preço da ação PRIO3 em 2024-04-02: R${preco_atual[0]:.2f}\")\n"
      ],
      "metadata": {
        "colab": {
          "base_uri": "https://localhost:8080/"
        },
        "id": "rOknY2XcAriG",
        "outputId": "64828a47-58f1-4348-c411-f0494a45d197"
      },
      "execution_count": 42,
      "outputs": [
        {
          "output_type": "stream",
          "name": "stdout",
          "text": [
            "Preço da ação PRIO3 em 2019-01-01: R$2.07\n",
            "Preço da ação PRIO3 em 2024-04-02: R$49.05\n"
          ]
        }
      ]
    },
    {
      "cell_type": "markdown",
      "source": [
        "### Quero ajustar o portfólio eliminando a PetroRio e seu crescimento meteórico (ela é do setor de petróleo e é naturalmente um ponto fora da curva)"
      ],
      "metadata": {
        "id": "Ssw_5GmH1fXT"
      }
    },
    {
      "cell_type": "markdown",
      "source": [
        "#### Portfólio atualizado (sem a outliner PetroRio)"
      ],
      "metadata": {
        "id": "DuHBeNx03Bp6"
      }
    },
    {
      "cell_type": "code",
      "source": [
        "valor_arrojado = valor_final_acoes_arrojado.drop(valor_final_acoes_arrojado.index[3])\n",
        "print(valor_arrojado)"
      ],
      "metadata": {
        "colab": {
          "base_uri": "https://localhost:8080/"
        },
        "id": "_wGevCokzX8H",
        "outputId": "b3d8f8d6-4716-4c1a-a9fc-88789c8a0779"
      },
      "execution_count": 43,
      "outputs": [
        {
          "output_type": "stream",
          "name": "stdout",
          "text": [
            "COGN3     21.621621\n",
            "CYRE3    137.016032\n",
            "FLRY3     84.322153\n",
            "BRKM5     40.548308\n",
            "LREN3     40.981684\n",
            "RAIL3    129.793499\n",
            "PETR4    170.592036\n",
            "WEGE3    467.803726\n",
            "dtype: float64\n"
          ]
        }
      ]
    },
    {
      "cell_type": "code",
      "source": [
        "# Calcular o valor total do portfólio arrojado ajustado\n",
        "print(f\"\\nValor total do portfólio arrojado ajustado: R$ {valor_arrojado.sum():.2f}\")"
      ],
      "metadata": {
        "colab": {
          "base_uri": "https://localhost:8080/"
        },
        "id": "G4MYkLYQ0joG",
        "outputId": "4164d0e8-7427-44b3-e0a4-66c2eb99e6af"
      },
      "execution_count": 44,
      "outputs": [
        {
          "output_type": "stream",
          "name": "stdout",
          "text": [
            "\n",
            "Valor total do portfólio arrojado ajustado: R$ 1092.68\n"
          ]
        }
      ]
    },
    {
      "cell_type": "code",
      "source": [
        "# Calcular o retorno percentual:\n",
        "retorno_percentA_ajustado = (valor_arrojado.sum() - 1000) / 1000 * 100\n",
        "print(f\"Retorno do portfólio arrojado ajustado: {retorno_percentA_ajustado:.2f}%\")"
      ],
      "metadata": {
        "colab": {
          "base_uri": "https://localhost:8080/"
        },
        "id": "1g85728N3jmP",
        "outputId": "0ce6802b-60f0-4692-e60e-373678eaf2ee"
      },
      "execution_count": 45,
      "outputs": [
        {
          "output_type": "stream",
          "name": "stdout",
          "text": [
            "Retorno do portfólio arrojado ajustado: 9.27%\n"
          ]
        }
      ]
    }
  ]
}