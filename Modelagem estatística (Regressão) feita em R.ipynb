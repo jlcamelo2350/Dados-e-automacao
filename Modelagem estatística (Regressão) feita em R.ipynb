{
 "cells": [
  {
   "cell_type": "code",
   "execution_count": null,
   "metadata": {},
   "outputs": [],
   "source": [
    "## É o código utilizado para rodar a modelagem estatística apresentada no artigo Inovação, \n",
    "##liberdade econômica e renda per capita\n",
    "##disponível aqui nesse mesmo github, no repositório economics.\n",
    "\n",
    "# Instala e carrega a biblioteca readxl para leitura de arquivos do Excel\n",
    "install.packages(\"readxl\")\n",
    "library(readxl)\n",
    "#Instala e carrega a biblioteca ggplot2 para gráficos\n",
    "install.packages(\"ggplot2\")\n",
    "library(ggplot2)\n",
    "\n",
    "# Define o caminho do arquivo Excel a ser lido\n",
    "caminho <- \"C:/Users/Alves/Downloads/reg/countries.xlsx\" ##local onde está armazenado a tabela que utilizei para a modelagem\n",
    "\n",
    "# Lê os dados do arquivo Excel\n",
    "dados <- read_excel(caminho)\n",
    "\n",
    "# Converte as colunas xI e xL para numérico para evitar problemas\n",
    "dados$xI <- as.numeric(dados$xI)\n",
    "dados$xL <- as.numeric(dados$xL)\n",
    "\n",
    "# Cria-se o modelo de regressão com Y sendo a variável dependente, as colunas xI, xL \n",
    "#contendo os valores das variáveis independentes e um erro randômico (rnorm)\n",
    "dados$Y <- dados$xI + dados$xL + rnorm(nrow(dados))\n",
    "\n",
    "# Cria modelos de regressão simples\n",
    "regI <- lm(Y ~ xI, data = dados) ##Y como variável dependente e xI como variável independente\n",
    "regL <- lm(Y ~ xL, data = dados)\n",
    "\n",
    "# Mostra na tela os resultados da regressão simples (RLS):\n",
    "summary(regI)\n",
    "summary(regL)\n",
    "\n",
    "# Cria um modelo de regressão múltipla\n",
    "reg <- lm(Y ~ xI + xL, data = dados)\n",
    "\n",
    "#Mostra na tela os resultados da RLM(múltipla):\n",
    "summary(reg)\n",
    "\n",
    "\n",
    "# Gráficos dos modelos:\n",
    "# Modelo simples usando geom_smooth:\n",
    "ggplot(dados, aes(x = xI, y = Y)) +\n",
    "  geom_point() +\n",
    "  geom_smooth(method = \"lm\", formula = y ~ x, se = FALSE, color = \"red\") +\n",
    "  labs(x = \"Inovação\", y = \"PIB per capita\", title = \"Regressão Linear: Inovação x PIB per Capita\")"
   ]
  }
 ],
 "metadata": {
  "kernelspec": {
   "display_name": "Python 3",
   "language": "python",
   "name": "python3"
  },
  "language_info": {
   "name": "python",
   "version": "3.11.9"
  }
 },
 "nbformat": 4,
 "nbformat_minor": 2
}
